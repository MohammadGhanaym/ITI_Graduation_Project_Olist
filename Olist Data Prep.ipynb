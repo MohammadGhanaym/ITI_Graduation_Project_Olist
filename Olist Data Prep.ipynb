{
 "cells": [
  {
   "cell_type": "markdown",
   "id": "24fc05f4-23bb-49b5-9b20-304c915191ea",
   "metadata": {},
   "source": [
    "# Data Preparation and Enrichment"
   ]
  },
  {
   "cell_type": "code",
   "execution_count": 1,
   "id": "55b37c6b-d705-4d54-a635-233454a8c9b4",
   "metadata": {},
   "outputs": [],
   "source": [
    "from faker import Faker\n",
    "import pandas as pd\n",
    "import random\n",
    "import glob\n",
    "import os\n",
    "import numpy as np\n",
    "import warnings\n",
    "np.random.seed(42)\n",
    "\n",
    "pd.set_option('display.max_columns', None)\n",
    "pd.set_option('display.max_rows', 100)\n",
    "warnings.simplefilter(action='ignore', category=FutureWarning)"
   ]
  },
  {
   "cell_type": "markdown",
   "id": "ee2f0eca-3b8a-434a-982b-125d68b1f73b",
   "metadata": {},
   "source": [
    "## Data Assessing"
   ]
  },
  {
   "cell_type": "code",
   "execution_count": 2,
   "id": "f0202bf8-275f-445c-980c-36ebac4f9158",
   "metadata": {},
   "outputs": [],
   "source": [
    "datasets = {}\n",
    "fileNames = []"
   ]
  },
  {
   "cell_type": "code",
   "execution_count": 3,
   "id": "63a54d17-8a46-4a79-99fb-df2d12cb0b70",
   "metadata": {},
   "outputs": [],
   "source": [
    "for file in glob.glob('Datasets/*.csv'):\n",
    "    fileName = os.path.basename(file).split('.')[0].replace('olist_', '').replace('_dataset', '')\n",
    "    fileNames.append(fileName)\n",
    "    datasets[fileName] = pd.read_csv(file, encoding=\"utf-8\")"
   ]
  },
  {
   "cell_type": "code",
   "execution_count": 4,
   "id": "2ad515a3-b8a1-4d6e-8a76-8b751ddb0f04",
   "metadata": {},
   "outputs": [
    {
     "data": {
      "text/plain": [
       "dict_keys(['closed_deals', 'customers', 'geolocation', 'marketing_qualified_leads', 'orders', 'order_items', 'order_payments', 'order_reviews', 'products', 'sellers', 'product_category_name_translation'])"
      ]
     },
     "execution_count": 4,
     "metadata": {},
     "output_type": "execute_result"
    }
   ],
   "source": [
    "datasets.keys()"
   ]
  },
  {
   "cell_type": "code",
   "execution_count": 5,
   "id": "576902de-2c25-4701-96fc-de43b2907381",
   "metadata": {},
   "outputs": [
    {
     "data": {
      "text/html": [
       "<style type=\"text/css\">\n",
       "#T_c294c_row0_col1, #T_c294c_row0_col3, #T_c294c_row1_col3, #T_c294c_row1_col4, #T_c294c_row2_col4, #T_c294c_row3_col3, #T_c294c_row3_col4, #T_c294c_row4_col3, #T_c294c_row5_col3, #T_c294c_row5_col4, #T_c294c_row6_col3, #T_c294c_row6_col4, #T_c294c_row7_col3, #T_c294c_row8_col3, #T_c294c_row9_col1, #T_c294c_row9_col3, #T_c294c_row9_col4, #T_c294c_row10_col1, #T_c294c_row10_col2, #T_c294c_row10_col3, #T_c294c_row10_col4 {\n",
       "  background-color: #fff7fb;\n",
       "  color: #000000;\n",
       "}\n",
       "#T_c294c_row0_col2, #T_c294c_row2_col1, #T_c294c_row2_col3, #T_c294c_row7_col4 {\n",
       "  background-color: #023858;\n",
       "  color: #f1f1f1;\n",
       "}\n",
       "#T_c294c_row0_col4 {\n",
       "  background-color: #fcf4fa;\n",
       "  color: #000000;\n",
       "}\n",
       "#T_c294c_row1_col1, #T_c294c_row4_col1, #T_c294c_row6_col1, #T_c294c_row7_col1 {\n",
       "  background-color: #f0eaf4;\n",
       "  color: #000000;\n",
       "}\n",
       "#T_c294c_row1_col2, #T_c294c_row2_col2 {\n",
       "  background-color: #d0d1e6;\n",
       "  color: #000000;\n",
       "}\n",
       "#T_c294c_row3_col1 {\n",
       "  background-color: #fef6fa;\n",
       "  color: #000000;\n",
       "}\n",
       "#T_c294c_row3_col2, #T_c294c_row9_col2 {\n",
       "  background-color: #e3e0ee;\n",
       "  color: #000000;\n",
       "}\n",
       "#T_c294c_row4_col2 {\n",
       "  background-color: #73a9cf;\n",
       "  color: #f1f1f1;\n",
       "}\n",
       "#T_c294c_row4_col4, #T_c294c_row8_col1 {\n",
       "  background-color: #faf3f9;\n",
       "  color: #000000;\n",
       "}\n",
       "#T_c294c_row5_col1 {\n",
       "  background-color: #eee9f3;\n",
       "  color: #000000;\n",
       "}\n",
       "#T_c294c_row5_col2, #T_c294c_row7_col2 {\n",
       "  background-color: #96b6d7;\n",
       "  color: #000000;\n",
       "}\n",
       "#T_c294c_row6_col2 {\n",
       "  background-color: #b4c4df;\n",
       "  color: #000000;\n",
       "}\n",
       "#T_c294c_row8_col2 {\n",
       "  background-color: #4a98c5;\n",
       "  color: #f1f1f1;\n",
       "}\n",
       "#T_c294c_row8_col4 {\n",
       "  background-color: #fdf5fa;\n",
       "  color: #000000;\n",
       "}\n",
       "</style>\n",
       "<table id=\"T_c294c\">\n",
       "  <thead>\n",
       "    <tr>\n",
       "      <th class=\"blank level0\" >&nbsp;</th>\n",
       "      <th id=\"T_c294c_level0_col0\" class=\"col_heading level0 col0\" >dataset</th>\n",
       "      <th id=\"T_c294c_level0_col1\" class=\"col_heading level0 col1\" >n_rows</th>\n",
       "      <th id=\"T_c294c_level0_col2\" class=\"col_heading level0 col2\" >n_cols</th>\n",
       "      <th id=\"T_c294c_level0_col3\" class=\"col_heading level0 col3\" >n_duplicates</th>\n",
       "      <th id=\"T_c294c_level0_col4\" class=\"col_heading level0 col4\" >null_counts</th>\n",
       "      <th id=\"T_c294c_level0_col5\" class=\"col_heading level0 col5\" >null_cols</th>\n",
       "    </tr>\n",
       "  </thead>\n",
       "  <tbody>\n",
       "    <tr>\n",
       "      <th id=\"T_c294c_level0_row0\" class=\"row_heading level0 row0\" >0</th>\n",
       "      <td id=\"T_c294c_row0_col0\" class=\"data row0 col0\" >closed_deals</td>\n",
       "      <td id=\"T_c294c_row0_col1\" class=\"data row0 col1\" >842</td>\n",
       "      <td id=\"T_c294c_row0_col2\" class=\"data row0 col2\" >14</td>\n",
       "      <td id=\"T_c294c_row0_col3\" class=\"data row0 col3\" >0</td>\n",
       "      <td id=\"T_c294c_row0_col4\" class=\"data row0 col4\" >3300</td>\n",
       "      <td id=\"T_c294c_row0_col5\" class=\"data row0 col5\" >business_segment, lead_type, lead_behaviour_profile, has_company, has_gtin, average_stock, business_type, declared_product_catalog_size</td>\n",
       "    </tr>\n",
       "    <tr>\n",
       "      <th id=\"T_c294c_level0_row1\" class=\"row_heading level0 row1\" >1</th>\n",
       "      <td id=\"T_c294c_row1_col0\" class=\"data row1 col0\" >customers</td>\n",
       "      <td id=\"T_c294c_row1_col1\" class=\"data row1 col1\" >99441</td>\n",
       "      <td id=\"T_c294c_row1_col2\" class=\"data row1 col2\" >5</td>\n",
       "      <td id=\"T_c294c_row1_col3\" class=\"data row1 col3\" >0</td>\n",
       "      <td id=\"T_c294c_row1_col4\" class=\"data row1 col4\" >0</td>\n",
       "      <td id=\"T_c294c_row1_col5\" class=\"data row1 col5\" ></td>\n",
       "    </tr>\n",
       "    <tr>\n",
       "      <th id=\"T_c294c_level0_row2\" class=\"row_heading level0 row2\" >2</th>\n",
       "      <td id=\"T_c294c_row2_col0\" class=\"data row2 col0\" >geolocation</td>\n",
       "      <td id=\"T_c294c_row2_col1\" class=\"data row2 col1\" >1000163</td>\n",
       "      <td id=\"T_c294c_row2_col2\" class=\"data row2 col2\" >5</td>\n",
       "      <td id=\"T_c294c_row2_col3\" class=\"data row2 col3\" >261831</td>\n",
       "      <td id=\"T_c294c_row2_col4\" class=\"data row2 col4\" >0</td>\n",
       "      <td id=\"T_c294c_row2_col5\" class=\"data row2 col5\" ></td>\n",
       "    </tr>\n",
       "    <tr>\n",
       "      <th id=\"T_c294c_level0_row3\" class=\"row_heading level0 row3\" >3</th>\n",
       "      <td id=\"T_c294c_row3_col0\" class=\"data row3 col0\" >marketing_qualified_leads</td>\n",
       "      <td id=\"T_c294c_row3_col1\" class=\"data row3 col1\" >8000</td>\n",
       "      <td id=\"T_c294c_row3_col2\" class=\"data row3 col2\" >4</td>\n",
       "      <td id=\"T_c294c_row3_col3\" class=\"data row3 col3\" >0</td>\n",
       "      <td id=\"T_c294c_row3_col4\" class=\"data row3 col4\" >60</td>\n",
       "      <td id=\"T_c294c_row3_col5\" class=\"data row3 col5\" >origin</td>\n",
       "    </tr>\n",
       "    <tr>\n",
       "      <th id=\"T_c294c_level0_row4\" class=\"row_heading level0 row4\" >4</th>\n",
       "      <td id=\"T_c294c_row4_col0\" class=\"data row4 col0\" >orders</td>\n",
       "      <td id=\"T_c294c_row4_col1\" class=\"data row4 col1\" >99441</td>\n",
       "      <td id=\"T_c294c_row4_col2\" class=\"data row4 col2\" >8</td>\n",
       "      <td id=\"T_c294c_row4_col3\" class=\"data row4 col3\" >0</td>\n",
       "      <td id=\"T_c294c_row4_col4\" class=\"data row4 col4\" >4908</td>\n",
       "      <td id=\"T_c294c_row4_col5\" class=\"data row4 col5\" >order_approved_at, order_delivered_carrier_date, order_delivered_customer_date</td>\n",
       "    </tr>\n",
       "    <tr>\n",
       "      <th id=\"T_c294c_level0_row5\" class=\"row_heading level0 row5\" >5</th>\n",
       "      <td id=\"T_c294c_row5_col0\" class=\"data row5 col0\" >order_items</td>\n",
       "      <td id=\"T_c294c_row5_col1\" class=\"data row5 col1\" >112650</td>\n",
       "      <td id=\"T_c294c_row5_col2\" class=\"data row5 col2\" >7</td>\n",
       "      <td id=\"T_c294c_row5_col3\" class=\"data row5 col3\" >0</td>\n",
       "      <td id=\"T_c294c_row5_col4\" class=\"data row5 col4\" >0</td>\n",
       "      <td id=\"T_c294c_row5_col5\" class=\"data row5 col5\" ></td>\n",
       "    </tr>\n",
       "    <tr>\n",
       "      <th id=\"T_c294c_level0_row6\" class=\"row_heading level0 row6\" >6</th>\n",
       "      <td id=\"T_c294c_row6_col0\" class=\"data row6 col0\" >order_payments</td>\n",
       "      <td id=\"T_c294c_row6_col1\" class=\"data row6 col1\" >103886</td>\n",
       "      <td id=\"T_c294c_row6_col2\" class=\"data row6 col2\" >6</td>\n",
       "      <td id=\"T_c294c_row6_col3\" class=\"data row6 col3\" >0</td>\n",
       "      <td id=\"T_c294c_row6_col4\" class=\"data row6 col4\" >0</td>\n",
       "      <td id=\"T_c294c_row6_col5\" class=\"data row6 col5\" ></td>\n",
       "    </tr>\n",
       "    <tr>\n",
       "      <th id=\"T_c294c_level0_row7\" class=\"row_heading level0 row7\" >7</th>\n",
       "      <td id=\"T_c294c_row7_col0\" class=\"data row7 col0\" >order_reviews</td>\n",
       "      <td id=\"T_c294c_row7_col1\" class=\"data row7 col1\" >99224</td>\n",
       "      <td id=\"T_c294c_row7_col2\" class=\"data row7 col2\" >7</td>\n",
       "      <td id=\"T_c294c_row7_col3\" class=\"data row7 col3\" >0</td>\n",
       "      <td id=\"T_c294c_row7_col4\" class=\"data row7 col4\" >145903</td>\n",
       "      <td id=\"T_c294c_row7_col5\" class=\"data row7 col5\" >review_comment_title, review_comment_message</td>\n",
       "    </tr>\n",
       "    <tr>\n",
       "      <th id=\"T_c294c_level0_row8\" class=\"row_heading level0 row8\" >8</th>\n",
       "      <td id=\"T_c294c_row8_col0\" class=\"data row8 col0\" >products</td>\n",
       "      <td id=\"T_c294c_row8_col1\" class=\"data row8 col1\" >32951</td>\n",
       "      <td id=\"T_c294c_row8_col2\" class=\"data row8 col2\" >9</td>\n",
       "      <td id=\"T_c294c_row8_col3\" class=\"data row8 col3\" >0</td>\n",
       "      <td id=\"T_c294c_row8_col4\" class=\"data row8 col4\" >2448</td>\n",
       "      <td id=\"T_c294c_row8_col5\" class=\"data row8 col5\" >product_category_name, product_name_lenght, product_description_lenght, product_photos_qty, product_weight_g, product_length_cm, product_height_cm, product_width_cm</td>\n",
       "    </tr>\n",
       "    <tr>\n",
       "      <th id=\"T_c294c_level0_row9\" class=\"row_heading level0 row9\" >9</th>\n",
       "      <td id=\"T_c294c_row9_col0\" class=\"data row9 col0\" >sellers</td>\n",
       "      <td id=\"T_c294c_row9_col1\" class=\"data row9 col1\" >3095</td>\n",
       "      <td id=\"T_c294c_row9_col2\" class=\"data row9 col2\" >4</td>\n",
       "      <td id=\"T_c294c_row9_col3\" class=\"data row9 col3\" >0</td>\n",
       "      <td id=\"T_c294c_row9_col4\" class=\"data row9 col4\" >0</td>\n",
       "      <td id=\"T_c294c_row9_col5\" class=\"data row9 col5\" ></td>\n",
       "    </tr>\n",
       "    <tr>\n",
       "      <th id=\"T_c294c_level0_row10\" class=\"row_heading level0 row10\" >10</th>\n",
       "      <td id=\"T_c294c_row10_col0\" class=\"data row10 col0\" >product_category_name_translation</td>\n",
       "      <td id=\"T_c294c_row10_col1\" class=\"data row10 col1\" >71</td>\n",
       "      <td id=\"T_c294c_row10_col2\" class=\"data row10 col2\" >2</td>\n",
       "      <td id=\"T_c294c_row10_col3\" class=\"data row10 col3\" >0</td>\n",
       "      <td id=\"T_c294c_row10_col4\" class=\"data row10 col4\" >0</td>\n",
       "      <td id=\"T_c294c_row10_col5\" class=\"data row10 col5\" ></td>\n",
       "    </tr>\n",
       "  </tbody>\n",
       "</table>\n"
      ],
      "text/plain": [
       "<pandas.io.formats.style.Styler at 0x202bb7717f0>"
      ]
     },
     "execution_count": 5,
     "metadata": {},
     "output_type": "execute_result"
    }
   ],
   "source": [
    "datasets_info = pd.DataFrame()\n",
    "datasets_info['dataset'] = fileNames\n",
    "datasets_info['n_rows'] = [datasets[fileName].shape[0] for fileName in fileNames]\n",
    "datasets_info['n_cols'] = [datasets[fileName].shape[1] for fileName in fileNames]\n",
    "datasets_info['n_duplicates'] = [datasets[fileName].duplicated().sum() for fileName in fileNames]\n",
    "datasets_info['null_counts'] = [datasets[fileName].isnull().sum().sum() for fileName in fileNames]\n",
    "datasets_info['null_cols'] = [', '.join([col for col, null in datasets[fileName].isnull().sum().items() if null > 0]) for fileName in fileNames]\n",
    "datasets_info.style.background_gradient()"
   ]
  },
  {
   "cell_type": "code",
   "execution_count": 6,
   "id": "64689f60-abdd-40c3-84ae-e50af8db9b7e",
   "metadata": {},
   "outputs": [],
   "source": [
    "datasets_overview = pd.DataFrame(columns=['dataset_name', 'column_name', 'null_counts', 'null_proportions', 'datatypes'])\n",
    "for fileName in fileNames:\n",
    "    # Get null values in each column\n",
    "    nulls = datasets[fileName].isnull().sum()\n",
    "    nulls.name = 'null_counts'\n",
    "    df_nulls = nulls.reset_index().rename(columns={'index': 'column_name'})\n",
    "    df_nulls['null_proportions'] = np.round(df_nulls.null_counts.values / datasets[fileName].shape[0], decimals=4) * 100\n",
    "    df_nulls['null_proportions'] = df_nulls['null_proportions'].fillna(0)\n",
    "    # Get datatype for each column\n",
    "    datatypes = datasets[fileName].dtypes\n",
    "    datatypes.name = 'datatypes'\n",
    "    df_datatypes = datatypes.reset_index().rename(columns={'index': 'column_name'})\n",
    "    \n",
    "    # Create a dataframe of the dataset columns info\n",
    "    df = df_nulls.merge(df_datatypes, on='column_name', how='inner')\n",
    "    df['dataset_name'] = fileName\n",
    "    datasets_overview = pd.concat((datasets_overview, df)).reset_index(drop=True)"
   ]
  },
  {
   "cell_type": "code",
   "execution_count": 7,
   "id": "ac7fd696-261b-4355-8e1f-7899fc2241e6",
   "metadata": {},
   "outputs": [
    {
     "data": {
      "text/html": [
       "<div>\n",
       "<style scoped>\n",
       "    .dataframe tbody tr th:only-of-type {\n",
       "        vertical-align: middle;\n",
       "    }\n",
       "\n",
       "    .dataframe tbody tr th {\n",
       "        vertical-align: top;\n",
       "    }\n",
       "\n",
       "    .dataframe thead th {\n",
       "        text-align: right;\n",
       "    }\n",
       "</style>\n",
       "<table border=\"1\" class=\"dataframe\">\n",
       "  <thead>\n",
       "    <tr style=\"text-align: right;\">\n",
       "      <th></th>\n",
       "      <th>dataset_name</th>\n",
       "      <th>column_name</th>\n",
       "      <th>null_counts</th>\n",
       "      <th>null_proportions</th>\n",
       "      <th>datatypes</th>\n",
       "    </tr>\n",
       "  </thead>\n",
       "  <tbody>\n",
       "    <tr>\n",
       "      <th>0</th>\n",
       "      <td>closed_deals</td>\n",
       "      <td>mql_id</td>\n",
       "      <td>0</td>\n",
       "      <td>0.00</td>\n",
       "      <td>object</td>\n",
       "    </tr>\n",
       "    <tr>\n",
       "      <th>1</th>\n",
       "      <td>closed_deals</td>\n",
       "      <td>seller_id</td>\n",
       "      <td>0</td>\n",
       "      <td>0.00</td>\n",
       "      <td>object</td>\n",
       "    </tr>\n",
       "    <tr>\n",
       "      <th>2</th>\n",
       "      <td>closed_deals</td>\n",
       "      <td>sdr_id</td>\n",
       "      <td>0</td>\n",
       "      <td>0.00</td>\n",
       "      <td>object</td>\n",
       "    </tr>\n",
       "    <tr>\n",
       "      <th>3</th>\n",
       "      <td>closed_deals</td>\n",
       "      <td>sr_id</td>\n",
       "      <td>0</td>\n",
       "      <td>0.00</td>\n",
       "      <td>object</td>\n",
       "    </tr>\n",
       "    <tr>\n",
       "      <th>4</th>\n",
       "      <td>closed_deals</td>\n",
       "      <td>won_date</td>\n",
       "      <td>0</td>\n",
       "      <td>0.00</td>\n",
       "      <td>object</td>\n",
       "    </tr>\n",
       "    <tr>\n",
       "      <th>5</th>\n",
       "      <td>closed_deals</td>\n",
       "      <td>business_segment</td>\n",
       "      <td>1</td>\n",
       "      <td>0.12</td>\n",
       "      <td>object</td>\n",
       "    </tr>\n",
       "    <tr>\n",
       "      <th>6</th>\n",
       "      <td>closed_deals</td>\n",
       "      <td>lead_type</td>\n",
       "      <td>6</td>\n",
       "      <td>0.71</td>\n",
       "      <td>object</td>\n",
       "    </tr>\n",
       "    <tr>\n",
       "      <th>7</th>\n",
       "      <td>closed_deals</td>\n",
       "      <td>lead_behaviour_profile</td>\n",
       "      <td>177</td>\n",
       "      <td>21.02</td>\n",
       "      <td>object</td>\n",
       "    </tr>\n",
       "    <tr>\n",
       "      <th>8</th>\n",
       "      <td>closed_deals</td>\n",
       "      <td>has_company</td>\n",
       "      <td>779</td>\n",
       "      <td>92.52</td>\n",
       "      <td>object</td>\n",
       "    </tr>\n",
       "    <tr>\n",
       "      <th>9</th>\n",
       "      <td>closed_deals</td>\n",
       "      <td>has_gtin</td>\n",
       "      <td>778</td>\n",
       "      <td>92.40</td>\n",
       "      <td>object</td>\n",
       "    </tr>\n",
       "    <tr>\n",
       "      <th>10</th>\n",
       "      <td>closed_deals</td>\n",
       "      <td>average_stock</td>\n",
       "      <td>776</td>\n",
       "      <td>92.16</td>\n",
       "      <td>object</td>\n",
       "    </tr>\n",
       "    <tr>\n",
       "      <th>11</th>\n",
       "      <td>closed_deals</td>\n",
       "      <td>business_type</td>\n",
       "      <td>10</td>\n",
       "      <td>1.19</td>\n",
       "      <td>object</td>\n",
       "    </tr>\n",
       "    <tr>\n",
       "      <th>12</th>\n",
       "      <td>closed_deals</td>\n",
       "      <td>declared_product_catalog_size</td>\n",
       "      <td>773</td>\n",
       "      <td>91.81</td>\n",
       "      <td>float64</td>\n",
       "    </tr>\n",
       "    <tr>\n",
       "      <th>13</th>\n",
       "      <td>closed_deals</td>\n",
       "      <td>declared_monthly_revenue</td>\n",
       "      <td>0</td>\n",
       "      <td>0.00</td>\n",
       "      <td>float64</td>\n",
       "    </tr>\n",
       "    <tr>\n",
       "      <th>14</th>\n",
       "      <td>customers</td>\n",
       "      <td>customer_id</td>\n",
       "      <td>0</td>\n",
       "      <td>0.00</td>\n",
       "      <td>object</td>\n",
       "    </tr>\n",
       "    <tr>\n",
       "      <th>15</th>\n",
       "      <td>customers</td>\n",
       "      <td>customer_unique_id</td>\n",
       "      <td>0</td>\n",
       "      <td>0.00</td>\n",
       "      <td>object</td>\n",
       "    </tr>\n",
       "    <tr>\n",
       "      <th>16</th>\n",
       "      <td>customers</td>\n",
       "      <td>customer_zip_code_prefix</td>\n",
       "      <td>0</td>\n",
       "      <td>0.00</td>\n",
       "      <td>int64</td>\n",
       "    </tr>\n",
       "    <tr>\n",
       "      <th>17</th>\n",
       "      <td>customers</td>\n",
       "      <td>customer_city</td>\n",
       "      <td>0</td>\n",
       "      <td>0.00</td>\n",
       "      <td>object</td>\n",
       "    </tr>\n",
       "    <tr>\n",
       "      <th>18</th>\n",
       "      <td>customers</td>\n",
       "      <td>customer_state</td>\n",
       "      <td>0</td>\n",
       "      <td>0.00</td>\n",
       "      <td>object</td>\n",
       "    </tr>\n",
       "    <tr>\n",
       "      <th>19</th>\n",
       "      <td>geolocation</td>\n",
       "      <td>geolocation_zip_code_prefix</td>\n",
       "      <td>0</td>\n",
       "      <td>0.00</td>\n",
       "      <td>int64</td>\n",
       "    </tr>\n",
       "    <tr>\n",
       "      <th>20</th>\n",
       "      <td>geolocation</td>\n",
       "      <td>geolocation_lat</td>\n",
       "      <td>0</td>\n",
       "      <td>0.00</td>\n",
       "      <td>float64</td>\n",
       "    </tr>\n",
       "    <tr>\n",
       "      <th>21</th>\n",
       "      <td>geolocation</td>\n",
       "      <td>geolocation_lng</td>\n",
       "      <td>0</td>\n",
       "      <td>0.00</td>\n",
       "      <td>float64</td>\n",
       "    </tr>\n",
       "    <tr>\n",
       "      <th>22</th>\n",
       "      <td>geolocation</td>\n",
       "      <td>geolocation_city</td>\n",
       "      <td>0</td>\n",
       "      <td>0.00</td>\n",
       "      <td>object</td>\n",
       "    </tr>\n",
       "    <tr>\n",
       "      <th>23</th>\n",
       "      <td>geolocation</td>\n",
       "      <td>geolocation_state</td>\n",
       "      <td>0</td>\n",
       "      <td>0.00</td>\n",
       "      <td>object</td>\n",
       "    </tr>\n",
       "    <tr>\n",
       "      <th>24</th>\n",
       "      <td>marketing_qualified_leads</td>\n",
       "      <td>mql_id</td>\n",
       "      <td>0</td>\n",
       "      <td>0.00</td>\n",
       "      <td>object</td>\n",
       "    </tr>\n",
       "    <tr>\n",
       "      <th>25</th>\n",
       "      <td>marketing_qualified_leads</td>\n",
       "      <td>first_contact_date</td>\n",
       "      <td>0</td>\n",
       "      <td>0.00</td>\n",
       "      <td>object</td>\n",
       "    </tr>\n",
       "    <tr>\n",
       "      <th>26</th>\n",
       "      <td>marketing_qualified_leads</td>\n",
       "      <td>landing_page_id</td>\n",
       "      <td>0</td>\n",
       "      <td>0.00</td>\n",
       "      <td>object</td>\n",
       "    </tr>\n",
       "    <tr>\n",
       "      <th>27</th>\n",
       "      <td>marketing_qualified_leads</td>\n",
       "      <td>origin</td>\n",
       "      <td>60</td>\n",
       "      <td>0.75</td>\n",
       "      <td>object</td>\n",
       "    </tr>\n",
       "    <tr>\n",
       "      <th>28</th>\n",
       "      <td>orders</td>\n",
       "      <td>order_id</td>\n",
       "      <td>0</td>\n",
       "      <td>0.00</td>\n",
       "      <td>object</td>\n",
       "    </tr>\n",
       "    <tr>\n",
       "      <th>29</th>\n",
       "      <td>orders</td>\n",
       "      <td>customer_id</td>\n",
       "      <td>0</td>\n",
       "      <td>0.00</td>\n",
       "      <td>object</td>\n",
       "    </tr>\n",
       "    <tr>\n",
       "      <th>30</th>\n",
       "      <td>orders</td>\n",
       "      <td>order_status</td>\n",
       "      <td>0</td>\n",
       "      <td>0.00</td>\n",
       "      <td>object</td>\n",
       "    </tr>\n",
       "    <tr>\n",
       "      <th>31</th>\n",
       "      <td>orders</td>\n",
       "      <td>order_purchase_timestamp</td>\n",
       "      <td>0</td>\n",
       "      <td>0.00</td>\n",
       "      <td>object</td>\n",
       "    </tr>\n",
       "    <tr>\n",
       "      <th>32</th>\n",
       "      <td>orders</td>\n",
       "      <td>order_approved_at</td>\n",
       "      <td>160</td>\n",
       "      <td>0.16</td>\n",
       "      <td>object</td>\n",
       "    </tr>\n",
       "    <tr>\n",
       "      <th>33</th>\n",
       "      <td>orders</td>\n",
       "      <td>order_delivered_carrier_date</td>\n",
       "      <td>1783</td>\n",
       "      <td>1.79</td>\n",
       "      <td>object</td>\n",
       "    </tr>\n",
       "    <tr>\n",
       "      <th>34</th>\n",
       "      <td>orders</td>\n",
       "      <td>order_delivered_customer_date</td>\n",
       "      <td>2965</td>\n",
       "      <td>2.98</td>\n",
       "      <td>object</td>\n",
       "    </tr>\n",
       "    <tr>\n",
       "      <th>35</th>\n",
       "      <td>orders</td>\n",
       "      <td>order_estimated_delivery_date</td>\n",
       "      <td>0</td>\n",
       "      <td>0.00</td>\n",
       "      <td>object</td>\n",
       "    </tr>\n",
       "    <tr>\n",
       "      <th>36</th>\n",
       "      <td>order_items</td>\n",
       "      <td>order_id</td>\n",
       "      <td>0</td>\n",
       "      <td>0.00</td>\n",
       "      <td>object</td>\n",
       "    </tr>\n",
       "    <tr>\n",
       "      <th>37</th>\n",
       "      <td>order_items</td>\n",
       "      <td>order_item_id</td>\n",
       "      <td>0</td>\n",
       "      <td>0.00</td>\n",
       "      <td>int64</td>\n",
       "    </tr>\n",
       "    <tr>\n",
       "      <th>38</th>\n",
       "      <td>order_items</td>\n",
       "      <td>product_id</td>\n",
       "      <td>0</td>\n",
       "      <td>0.00</td>\n",
       "      <td>object</td>\n",
       "    </tr>\n",
       "    <tr>\n",
       "      <th>39</th>\n",
       "      <td>order_items</td>\n",
       "      <td>seller_id</td>\n",
       "      <td>0</td>\n",
       "      <td>0.00</td>\n",
       "      <td>object</td>\n",
       "    </tr>\n",
       "    <tr>\n",
       "      <th>40</th>\n",
       "      <td>order_items</td>\n",
       "      <td>shipping_limit_date</td>\n",
       "      <td>0</td>\n",
       "      <td>0.00</td>\n",
       "      <td>object</td>\n",
       "    </tr>\n",
       "    <tr>\n",
       "      <th>41</th>\n",
       "      <td>order_items</td>\n",
       "      <td>price</td>\n",
       "      <td>0</td>\n",
       "      <td>0.00</td>\n",
       "      <td>float64</td>\n",
       "    </tr>\n",
       "    <tr>\n",
       "      <th>42</th>\n",
       "      <td>order_items</td>\n",
       "      <td>freight_value</td>\n",
       "      <td>0</td>\n",
       "      <td>0.00</td>\n",
       "      <td>float64</td>\n",
       "    </tr>\n",
       "    <tr>\n",
       "      <th>43</th>\n",
       "      <td>order_payments</td>\n",
       "      <td>order_id</td>\n",
       "      <td>0</td>\n",
       "      <td>0.00</td>\n",
       "      <td>object</td>\n",
       "    </tr>\n",
       "    <tr>\n",
       "      <th>44</th>\n",
       "      <td>order_payments</td>\n",
       "      <td>payment_sequential</td>\n",
       "      <td>0</td>\n",
       "      <td>0.00</td>\n",
       "      <td>int64</td>\n",
       "    </tr>\n",
       "    <tr>\n",
       "      <th>45</th>\n",
       "      <td>order_payments</td>\n",
       "      <td>payment_type</td>\n",
       "      <td>0</td>\n",
       "      <td>0.00</td>\n",
       "      <td>object</td>\n",
       "    </tr>\n",
       "    <tr>\n",
       "      <th>46</th>\n",
       "      <td>order_payments</td>\n",
       "      <td>payment_installments</td>\n",
       "      <td>0</td>\n",
       "      <td>0.00</td>\n",
       "      <td>int64</td>\n",
       "    </tr>\n",
       "    <tr>\n",
       "      <th>47</th>\n",
       "      <td>order_payments</td>\n",
       "      <td>payment_value</td>\n",
       "      <td>0</td>\n",
       "      <td>0.00</td>\n",
       "      <td>float64</td>\n",
       "    </tr>\n",
       "    <tr>\n",
       "      <th>48</th>\n",
       "      <td>order_payments</td>\n",
       "      <td>provider</td>\n",
       "      <td>0</td>\n",
       "      <td>0.00</td>\n",
       "      <td>object</td>\n",
       "    </tr>\n",
       "    <tr>\n",
       "      <th>49</th>\n",
       "      <td>order_reviews</td>\n",
       "      <td>review_id</td>\n",
       "      <td>0</td>\n",
       "      <td>0.00</td>\n",
       "      <td>object</td>\n",
       "    </tr>\n",
       "    <tr>\n",
       "      <th>50</th>\n",
       "      <td>order_reviews</td>\n",
       "      <td>order_id</td>\n",
       "      <td>0</td>\n",
       "      <td>0.00</td>\n",
       "      <td>object</td>\n",
       "    </tr>\n",
       "    <tr>\n",
       "      <th>51</th>\n",
       "      <td>order_reviews</td>\n",
       "      <td>review_score</td>\n",
       "      <td>0</td>\n",
       "      <td>0.00</td>\n",
       "      <td>int64</td>\n",
       "    </tr>\n",
       "    <tr>\n",
       "      <th>52</th>\n",
       "      <td>order_reviews</td>\n",
       "      <td>review_comment_title</td>\n",
       "      <td>87656</td>\n",
       "      <td>88.34</td>\n",
       "      <td>object</td>\n",
       "    </tr>\n",
       "    <tr>\n",
       "      <th>53</th>\n",
       "      <td>order_reviews</td>\n",
       "      <td>review_comment_message</td>\n",
       "      <td>58247</td>\n",
       "      <td>58.70</td>\n",
       "      <td>object</td>\n",
       "    </tr>\n",
       "    <tr>\n",
       "      <th>54</th>\n",
       "      <td>order_reviews</td>\n",
       "      <td>review_creation_date</td>\n",
       "      <td>0</td>\n",
       "      <td>0.00</td>\n",
       "      <td>object</td>\n",
       "    </tr>\n",
       "    <tr>\n",
       "      <th>55</th>\n",
       "      <td>order_reviews</td>\n",
       "      <td>review_answer_timestamp</td>\n",
       "      <td>0</td>\n",
       "      <td>0.00</td>\n",
       "      <td>object</td>\n",
       "    </tr>\n",
       "    <tr>\n",
       "      <th>56</th>\n",
       "      <td>products</td>\n",
       "      <td>product_id</td>\n",
       "      <td>0</td>\n",
       "      <td>0.00</td>\n",
       "      <td>object</td>\n",
       "    </tr>\n",
       "    <tr>\n",
       "      <th>57</th>\n",
       "      <td>products</td>\n",
       "      <td>product_category_name</td>\n",
       "      <td>610</td>\n",
       "      <td>1.85</td>\n",
       "      <td>object</td>\n",
       "    </tr>\n",
       "    <tr>\n",
       "      <th>58</th>\n",
       "      <td>products</td>\n",
       "      <td>product_name_lenght</td>\n",
       "      <td>610</td>\n",
       "      <td>1.85</td>\n",
       "      <td>float64</td>\n",
       "    </tr>\n",
       "    <tr>\n",
       "      <th>59</th>\n",
       "      <td>products</td>\n",
       "      <td>product_description_lenght</td>\n",
       "      <td>610</td>\n",
       "      <td>1.85</td>\n",
       "      <td>float64</td>\n",
       "    </tr>\n",
       "    <tr>\n",
       "      <th>60</th>\n",
       "      <td>products</td>\n",
       "      <td>product_photos_qty</td>\n",
       "      <td>610</td>\n",
       "      <td>1.85</td>\n",
       "      <td>float64</td>\n",
       "    </tr>\n",
       "    <tr>\n",
       "      <th>61</th>\n",
       "      <td>products</td>\n",
       "      <td>product_weight_g</td>\n",
       "      <td>2</td>\n",
       "      <td>0.01</td>\n",
       "      <td>float64</td>\n",
       "    </tr>\n",
       "    <tr>\n",
       "      <th>62</th>\n",
       "      <td>products</td>\n",
       "      <td>product_length_cm</td>\n",
       "      <td>2</td>\n",
       "      <td>0.01</td>\n",
       "      <td>float64</td>\n",
       "    </tr>\n",
       "    <tr>\n",
       "      <th>63</th>\n",
       "      <td>products</td>\n",
       "      <td>product_height_cm</td>\n",
       "      <td>2</td>\n",
       "      <td>0.01</td>\n",
       "      <td>float64</td>\n",
       "    </tr>\n",
       "    <tr>\n",
       "      <th>64</th>\n",
       "      <td>products</td>\n",
       "      <td>product_width_cm</td>\n",
       "      <td>2</td>\n",
       "      <td>0.01</td>\n",
       "      <td>float64</td>\n",
       "    </tr>\n",
       "    <tr>\n",
       "      <th>65</th>\n",
       "      <td>sellers</td>\n",
       "      <td>seller_id</td>\n",
       "      <td>0</td>\n",
       "      <td>0.00</td>\n",
       "      <td>object</td>\n",
       "    </tr>\n",
       "    <tr>\n",
       "      <th>66</th>\n",
       "      <td>sellers</td>\n",
       "      <td>seller_zip_code_prefix</td>\n",
       "      <td>0</td>\n",
       "      <td>0.00</td>\n",
       "      <td>int64</td>\n",
       "    </tr>\n",
       "    <tr>\n",
       "      <th>67</th>\n",
       "      <td>sellers</td>\n",
       "      <td>seller_city</td>\n",
       "      <td>0</td>\n",
       "      <td>0.00</td>\n",
       "      <td>object</td>\n",
       "    </tr>\n",
       "    <tr>\n",
       "      <th>68</th>\n",
       "      <td>sellers</td>\n",
       "      <td>seller_state</td>\n",
       "      <td>0</td>\n",
       "      <td>0.00</td>\n",
       "      <td>object</td>\n",
       "    </tr>\n",
       "    <tr>\n",
       "      <th>69</th>\n",
       "      <td>product_category_name_translation</td>\n",
       "      <td>product_category_name</td>\n",
       "      <td>0</td>\n",
       "      <td>0.00</td>\n",
       "      <td>object</td>\n",
       "    </tr>\n",
       "    <tr>\n",
       "      <th>70</th>\n",
       "      <td>product_category_name_translation</td>\n",
       "      <td>product_category_name_english</td>\n",
       "      <td>0</td>\n",
       "      <td>0.00</td>\n",
       "      <td>object</td>\n",
       "    </tr>\n",
       "  </tbody>\n",
       "</table>\n",
       "</div>"
      ],
      "text/plain": [
       "                         dataset_name                    column_name  \\\n",
       "0                        closed_deals                         mql_id   \n",
       "1                        closed_deals                      seller_id   \n",
       "2                        closed_deals                         sdr_id   \n",
       "3                        closed_deals                          sr_id   \n",
       "4                        closed_deals                       won_date   \n",
       "5                        closed_deals               business_segment   \n",
       "6                        closed_deals                      lead_type   \n",
       "7                        closed_deals         lead_behaviour_profile   \n",
       "8                        closed_deals                    has_company   \n",
       "9                        closed_deals                       has_gtin   \n",
       "10                       closed_deals                  average_stock   \n",
       "11                       closed_deals                  business_type   \n",
       "12                       closed_deals  declared_product_catalog_size   \n",
       "13                       closed_deals       declared_monthly_revenue   \n",
       "14                          customers                    customer_id   \n",
       "15                          customers             customer_unique_id   \n",
       "16                          customers       customer_zip_code_prefix   \n",
       "17                          customers                  customer_city   \n",
       "18                          customers                 customer_state   \n",
       "19                        geolocation    geolocation_zip_code_prefix   \n",
       "20                        geolocation                geolocation_lat   \n",
       "21                        geolocation                geolocation_lng   \n",
       "22                        geolocation               geolocation_city   \n",
       "23                        geolocation              geolocation_state   \n",
       "24          marketing_qualified_leads                         mql_id   \n",
       "25          marketing_qualified_leads             first_contact_date   \n",
       "26          marketing_qualified_leads                landing_page_id   \n",
       "27          marketing_qualified_leads                         origin   \n",
       "28                             orders                       order_id   \n",
       "29                             orders                    customer_id   \n",
       "30                             orders                   order_status   \n",
       "31                             orders       order_purchase_timestamp   \n",
       "32                             orders              order_approved_at   \n",
       "33                             orders   order_delivered_carrier_date   \n",
       "34                             orders  order_delivered_customer_date   \n",
       "35                             orders  order_estimated_delivery_date   \n",
       "36                        order_items                       order_id   \n",
       "37                        order_items                  order_item_id   \n",
       "38                        order_items                     product_id   \n",
       "39                        order_items                      seller_id   \n",
       "40                        order_items            shipping_limit_date   \n",
       "41                        order_items                          price   \n",
       "42                        order_items                  freight_value   \n",
       "43                     order_payments                       order_id   \n",
       "44                     order_payments             payment_sequential   \n",
       "45                     order_payments                   payment_type   \n",
       "46                     order_payments           payment_installments   \n",
       "47                     order_payments                  payment_value   \n",
       "48                     order_payments                       provider   \n",
       "49                      order_reviews                      review_id   \n",
       "50                      order_reviews                       order_id   \n",
       "51                      order_reviews                   review_score   \n",
       "52                      order_reviews           review_comment_title   \n",
       "53                      order_reviews         review_comment_message   \n",
       "54                      order_reviews           review_creation_date   \n",
       "55                      order_reviews        review_answer_timestamp   \n",
       "56                           products                     product_id   \n",
       "57                           products          product_category_name   \n",
       "58                           products            product_name_lenght   \n",
       "59                           products     product_description_lenght   \n",
       "60                           products             product_photos_qty   \n",
       "61                           products               product_weight_g   \n",
       "62                           products              product_length_cm   \n",
       "63                           products              product_height_cm   \n",
       "64                           products               product_width_cm   \n",
       "65                            sellers                      seller_id   \n",
       "66                            sellers         seller_zip_code_prefix   \n",
       "67                            sellers                    seller_city   \n",
       "68                            sellers                   seller_state   \n",
       "69  product_category_name_translation          product_category_name   \n",
       "70  product_category_name_translation  product_category_name_english   \n",
       "\n",
       "   null_counts  null_proportions datatypes  \n",
       "0            0              0.00    object  \n",
       "1            0              0.00    object  \n",
       "2            0              0.00    object  \n",
       "3            0              0.00    object  \n",
       "4            0              0.00    object  \n",
       "5            1              0.12    object  \n",
       "6            6              0.71    object  \n",
       "7          177             21.02    object  \n",
       "8          779             92.52    object  \n",
       "9          778             92.40    object  \n",
       "10         776             92.16    object  \n",
       "11          10              1.19    object  \n",
       "12         773             91.81   float64  \n",
       "13           0              0.00   float64  \n",
       "14           0              0.00    object  \n",
       "15           0              0.00    object  \n",
       "16           0              0.00     int64  \n",
       "17           0              0.00    object  \n",
       "18           0              0.00    object  \n",
       "19           0              0.00     int64  \n",
       "20           0              0.00   float64  \n",
       "21           0              0.00   float64  \n",
       "22           0              0.00    object  \n",
       "23           0              0.00    object  \n",
       "24           0              0.00    object  \n",
       "25           0              0.00    object  \n",
       "26           0              0.00    object  \n",
       "27          60              0.75    object  \n",
       "28           0              0.00    object  \n",
       "29           0              0.00    object  \n",
       "30           0              0.00    object  \n",
       "31           0              0.00    object  \n",
       "32         160              0.16    object  \n",
       "33        1783              1.79    object  \n",
       "34        2965              2.98    object  \n",
       "35           0              0.00    object  \n",
       "36           0              0.00    object  \n",
       "37           0              0.00     int64  \n",
       "38           0              0.00    object  \n",
       "39           0              0.00    object  \n",
       "40           0              0.00    object  \n",
       "41           0              0.00   float64  \n",
       "42           0              0.00   float64  \n",
       "43           0              0.00    object  \n",
       "44           0              0.00     int64  \n",
       "45           0              0.00    object  \n",
       "46           0              0.00     int64  \n",
       "47           0              0.00   float64  \n",
       "48           0              0.00    object  \n",
       "49           0              0.00    object  \n",
       "50           0              0.00    object  \n",
       "51           0              0.00     int64  \n",
       "52       87656             88.34    object  \n",
       "53       58247             58.70    object  \n",
       "54           0              0.00    object  \n",
       "55           0              0.00    object  \n",
       "56           0              0.00    object  \n",
       "57         610              1.85    object  \n",
       "58         610              1.85   float64  \n",
       "59         610              1.85   float64  \n",
       "60         610              1.85   float64  \n",
       "61           2              0.01   float64  \n",
       "62           2              0.01   float64  \n",
       "63           2              0.01   float64  \n",
       "64           2              0.01   float64  \n",
       "65           0              0.00    object  \n",
       "66           0              0.00     int64  \n",
       "67           0              0.00    object  \n",
       "68           0              0.00    object  \n",
       "69           0              0.00    object  \n",
       "70           0              0.00    object  "
      ]
     },
     "execution_count": 7,
     "metadata": {},
     "output_type": "execute_result"
    }
   ],
   "source": [
    "datasets_overview"
   ]
  },
  {
   "cell_type": "code",
   "execution_count": 8,
   "id": "42727bdf-ce60-4b3b-a475-0b0dd4512788",
   "metadata": {},
   "outputs": [],
   "source": [
    "datetime_cols = [\n",
    "    'order_purchase_timestamp',\n",
    "    'order_approved_at',\n",
    "    'order_delivered_carrier_date',\n",
    "    'order_delivered_customer_date',\n",
    "    'order_estimated_delivery_date',\n",
    "    'review_creation_date',\n",
    "    'review_answer_timestamp'\n",
    "]\n",
    "\n",
    "# Convert date columns safely\n",
    "for col in datetime_cols:\n",
    "    if col in df.columns:\n",
    "        datasets['orders'][col] = pd.to_datetime(datasets['orders'][col], errors='coerce')  # convert invalid dates to NaT\n",
    "        datasets['orders'][col] = datasets['orders'][col].dt.strftime('%Y-%m-%d %H:%M:%S')  # format as consistent datetime string\n",
    "        datasets['orders'][col] = datasets['orders'][col].fillna('')  # replace NaT with empty string for SSIS to interpret as NULL\n"
   ]
  },
  {
   "cell_type": "markdown",
   "id": "d816343a-e657-4a31-ab6d-434a0a70d14b",
   "metadata": {},
   "source": [
    "## Primary Key Integrity Check\n",
    "In this part, we will focus on verifying uniqueness and completeness of primary keys.\n",
    "- From the above table, we can verify that all the primary key columns do not have missing values."
   ]
  },
  {
   "cell_type": "code",
   "execution_count": 9,
   "id": "ddb87ff7-d8bc-42fb-b3ec-7ac0597d3453",
   "metadata": {},
   "outputs": [
    {
     "data": {
      "text/plain": [
       "['closed_deals',\n",
       " 'customers',\n",
       " 'geolocation',\n",
       " 'marketing_qualified_leads',\n",
       " 'orders',\n",
       " 'order_items',\n",
       " 'order_payments',\n",
       " 'order_reviews',\n",
       " 'products',\n",
       " 'sellers',\n",
       " 'product_category_name_translation']"
      ]
     },
     "execution_count": 9,
     "metadata": {},
     "output_type": "execute_result"
    }
   ],
   "source": [
    "fileNames"
   ]
  },
  {
   "cell_type": "code",
   "execution_count": 10,
   "id": "9e4a1b7f-90e2-4625-a5ce-c8b1f1a27d19",
   "metadata": {},
   "outputs": [
    {
     "data": {
      "text/plain": [
       "Index(['mql_id', 'first_contact_date', 'landing_page_id', 'origin'], dtype='object')"
      ]
     },
     "execution_count": 10,
     "metadata": {},
     "output_type": "execute_result"
    }
   ],
   "source": [
    "datasets['marketing_qualified_leads'].columns"
   ]
  },
  {
   "cell_type": "code",
   "execution_count": 11,
   "id": "6369744d-e3e0-4b13-85aa-cc3c9c24a8f4",
   "metadata": {},
   "outputs": [
    {
     "data": {
      "text/plain": [
       "0"
      ]
     },
     "execution_count": 11,
     "metadata": {},
     "output_type": "execute_result"
    }
   ],
   "source": [
    "datasets['orders'].duplicated(subset='order_id').sum()\n",
    "# Primary key (order_id)"
   ]
  },
  {
   "cell_type": "markdown",
   "id": "1978ee52-9e0d-4fc7-b98c-7d4ca246faac",
   "metadata": {},
   "source": [
    "- The `order_id` column is unique and not null, so it is a valid primary key."
   ]
  },
  {
   "cell_type": "code",
   "execution_count": 12,
   "id": "6e7b17a7-3829-4ba8-bf52-e3309ddf4cf4",
   "metadata": {},
   "outputs": [
    {
     "data": {
      "text/plain": [
       "0"
      ]
     },
     "execution_count": 12,
     "metadata": {},
     "output_type": "execute_result"
    }
   ],
   "source": [
    "datasets['order_payments'].duplicated(subset=['order_id', 'payment_sequential']).sum()\n",
    "# composite primary key (order_id, payment_sequential)"
   ]
  },
  {
   "cell_type": "markdown",
   "id": "1545789f-ff72-4ae2-bda7-574aa9f72f6a",
   "metadata": {},
   "source": [
    "\n",
    "- The `order_id` and `payment_sequential` columns are unique and not null, so they form a valid composite primary key.\n"
   ]
  },
  {
   "cell_type": "code",
   "execution_count": 13,
   "id": "42da0821-faaa-445f-88bf-556b45d0c8b0",
   "metadata": {},
   "outputs": [
    {
     "data": {
      "text/plain": [
       "0"
      ]
     },
     "execution_count": 13,
     "metadata": {},
     "output_type": "execute_result"
    }
   ],
   "source": [
    "datasets['customers'].duplicated(subset='customer_id').sum()\n",
    "# Primary key (customer_id)"
   ]
  },
  {
   "cell_type": "markdown",
   "id": "7646681b-d94b-4cae-94e9-8418f098bf07",
   "metadata": {},
   "source": [
    "- The `customer_id` column is unique and not null, so it is a valid primary key."
   ]
  },
  {
   "cell_type": "code",
   "execution_count": 14,
   "id": "81282717-5c87-478f-8852-d96729f7c18c",
   "metadata": {},
   "outputs": [
    {
     "data": {
      "text/plain": [
       "0"
      ]
     },
     "execution_count": 14,
     "metadata": {},
     "output_type": "execute_result"
    }
   ],
   "source": [
    "datasets['order_items'].duplicated(subset=['order_item_id', 'order_id']).sum()\n",
    "# composite primary key (order_item_id, order_id)"
   ]
  },
  {
   "cell_type": "markdown",
   "id": "748c8244-2bc7-46c3-adef-d8360b87be01",
   "metadata": {},
   "source": [
    "- The `order_item_id` and `order_id` columns are unique and not null, so they form a valid composite primary key."
   ]
  },
  {
   "cell_type": "code",
   "execution_count": 15,
   "id": "000cb0bf-c700-4c09-85c6-8dc650c1b740",
   "metadata": {},
   "outputs": [
    {
     "data": {
      "text/plain": [
       "0"
      ]
     },
     "execution_count": 15,
     "metadata": {},
     "output_type": "execute_result"
    }
   ],
   "source": [
    "datasets['products'].duplicated(subset=['product_id']).sum()\n",
    "# Primary key (product_id)"
   ]
  },
  {
   "cell_type": "markdown",
   "id": "eb844b5b-121c-4de8-864d-b2f9aa762999",
   "metadata": {},
   "source": [
    "- The `product_id` column is unique and not null, so it is a valid primary key."
   ]
  },
  {
   "cell_type": "code",
   "execution_count": 16,
   "id": "036c333f-2407-404c-a850-0a5237520586",
   "metadata": {},
   "outputs": [
    {
     "data": {
      "text/plain": [
       "0"
      ]
     },
     "execution_count": 16,
     "metadata": {},
     "output_type": "execute_result"
    }
   ],
   "source": [
    "datasets['sellers'].duplicated(subset=['seller_id']).sum()\n",
    "# Primary key (seller_id)"
   ]
  },
  {
   "cell_type": "markdown",
   "id": "3c2e2a48-dfd2-4332-8fd6-2acc571a2641",
   "metadata": {},
   "source": [
    "- The `seller_id` column is unique and not null, so it is a valid primary key."
   ]
  },
  {
   "cell_type": "code",
   "execution_count": 17,
   "id": "3dc666d6-b6cc-4418-9b85-61841ff111b0",
   "metadata": {},
   "outputs": [
    {
     "data": {
      "text/plain": [
       "0"
      ]
     },
     "execution_count": 17,
     "metadata": {},
     "output_type": "execute_result"
    }
   ],
   "source": [
    "datasets['order_reviews'].duplicated(subset=['review_id', 'order_id']).sum()\n",
    "# composite primary key (review_id, order_id)"
   ]
  },
  {
   "cell_type": "markdown",
   "id": "60a51f02-49f2-4ff6-bb70-586bdc63e100",
   "metadata": {},
   "source": [
    "- The `review_id` and `order_id` columns are unique and not null, so they form a valid composite primary key."
   ]
  },
  {
   "cell_type": "code",
   "execution_count": 18,
   "id": "cfa8e1f2-54b2-47fa-9096-89f0c0dea9cc",
   "metadata": {},
   "outputs": [
    {
     "data": {
      "text/plain": [
       "0"
      ]
     },
     "execution_count": 18,
     "metadata": {},
     "output_type": "execute_result"
    }
   ],
   "source": [
    "datasets['product_category_name_translation'].duplicated(subset=['product_category_name']).sum()\n",
    "# Primary key (product_category_name)"
   ]
  },
  {
   "cell_type": "markdown",
   "id": "a30dcd5f-161f-45ba-b763-6607bd5219dc",
   "metadata": {},
   "source": [
    "- The `product_category_name` column is unique and not null, so it is a valid primary key."
   ]
  },
  {
   "cell_type": "code",
   "execution_count": 19,
   "id": "dbbdba6a-c663-48c4-bb2f-12266edc53c6",
   "metadata": {},
   "outputs": [
    {
     "data": {
      "text/plain": [
       "0"
      ]
     },
     "execution_count": 19,
     "metadata": {},
     "output_type": "execute_result"
    }
   ],
   "source": [
    "datasets['closed_deals'].duplicated(subset=['mql_id']).sum()\n",
    "# Primary key (mql_id)"
   ]
  },
  {
   "cell_type": "markdown",
   "id": "3b6e87d7-a201-49c4-a856-c3cc68c495b4",
   "metadata": {},
   "source": [
    "- The `mql_id` column is unique and not null, so it is a valid primary key."
   ]
  },
  {
   "cell_type": "code",
   "execution_count": 20,
   "id": "de2d3fa0-fe07-4d8c-9cb7-b0196f659f87",
   "metadata": {},
   "outputs": [
    {
     "data": {
      "text/plain": [
       "0"
      ]
     },
     "execution_count": 20,
     "metadata": {},
     "output_type": "execute_result"
    }
   ],
   "source": [
    "datasets['marketing_qualified_leads'].duplicated(subset=['mql_id']).sum()\n",
    "# Primary key (mql_id)"
   ]
  },
  {
   "cell_type": "markdown",
   "id": "44d82f93-ea74-4b81-b2dc-f1ccc9d23697",
   "metadata": {},
   "source": [
    "- The `mql_id` column is unique and not null, so it is a valid primary key."
   ]
  },
  {
   "cell_type": "markdown",
   "id": "d98642fd-2e9c-4371-9371-8ab7efc88340",
   "metadata": {},
   "source": [
    "Let's drop the duplicate rows we found in the `gelocation` dataset"
   ]
  },
  {
   "cell_type": "code",
   "execution_count": 21,
   "id": "e53a8489-a838-40ab-bf32-fe4e3cb2a33e",
   "metadata": {},
   "outputs": [
    {
     "data": {
      "text/plain": [
       "0"
      ]
     },
     "execution_count": 21,
     "metadata": {},
     "output_type": "execute_result"
    }
   ],
   "source": [
    "datasets['geolocation'] = datasets['geolocation'].drop_duplicates()\n",
    "\n",
    "# test\n",
    "datasets['geolocation'].duplicated().sum()"
   ]
  },
  {
   "cell_type": "markdown",
   "id": "44e391cb-e864-4508-a8f9-e2260d52532e",
   "metadata": {},
   "source": [
    "According to the data model provided by the dataset publisher, `geolocation_zip_code_prefix` is a candidate primary key. Let's verify this by checking for duplicate values in this column."
   ]
  },
  {
   "cell_type": "code",
   "execution_count": 22,
   "id": "6de7d679-a60e-41fd-9a6c-e7f461500c87",
   "metadata": {},
   "outputs": [
    {
     "data": {
      "text/plain": [
       "719317"
      ]
     },
     "execution_count": 22,
     "metadata": {},
     "output_type": "execute_result"
    }
   ],
   "source": [
    "datasets['geolocation'].duplicated(subset=['geolocation_zip_code_prefix']).sum()"
   ]
  },
  {
   "cell_type": "markdown",
   "id": "a7fee3d3-05b5-4f60-aef9-73fb06c5f67b",
   "metadata": {},
   "source": [
    "\n",
    "- We can see that there are duplicate values in this column. Since the `geolocation`, `customers`, and `sellers` datasets share three common columns: `geolocation_zip_code_prefix`, `city`, and `state`, and our data model does not include latitude or longitude, we will drop those two columns.\n",
    "\n",
    "- I will check the `customers` and `sellers` datasets to see if they contain any data that do not exist in the `geolocation` dataset, and append those records to the `geolocation` dataset to ensure there are no missing values when we join.\n",
    "\n",
    "- Next, I will remove the duplicate rows from the `geolocation` dataset so that we have a unique combination of `geolocation_zip_code_prefix`, `city`, and `state`.\n",
    "\n",
    "- After that, I will create a new primary key column named `geo_id`.\n",
    "\n",
    "- Finally, I will join the `geolocation` dataset twice, once with the `customers` table and once with the `sellers` table, using those three columns to add the `geo_id` field. Once that is done, I will drop the `geolocation_zip_code_prefix`, `city`, and `state` columns from both the `customers` and `sellers` datasets.\n"
   ]
  },
  {
   "cell_type": "code",
   "execution_count": 23,
   "id": "872e573f-5e3e-4688-8876-4a4e13b099e8",
   "metadata": {},
   "outputs": [
    {
     "data": {
      "text/plain": [
       "Index(['geolocation_zip_code_prefix', 'geolocation_lat', 'geolocation_lng',\n",
       "       'geolocation_city', 'geolocation_state'],\n",
       "      dtype='object')"
      ]
     },
     "execution_count": 23,
     "metadata": {},
     "output_type": "execute_result"
    }
   ],
   "source": [
    "datasets['geolocation'].columns"
   ]
  },
  {
   "cell_type": "code",
   "execution_count": 24,
   "id": "8b37ad1b-9fa6-49a0-aeb9-42f9001891e7",
   "metadata": {},
   "outputs": [
    {
     "data": {
      "text/plain": [
       "Index(['geolocation_zip_code_prefix', 'geolocation_city', 'geolocation_state'], dtype='object')"
      ]
     },
     "execution_count": 24,
     "metadata": {},
     "output_type": "execute_result"
    }
   ],
   "source": [
    "# let's drop the `geolocation_lat` and `geolocation_lng`\n",
    "datasets['geolocation'].drop(['geolocation_lat', 'geolocation_lng'], axis=1, inplace=True)\n",
    "\n",
    "# test\n",
    "datasets['geolocation'].columns"
   ]
  },
  {
   "cell_type": "markdown",
   "id": "7e5d6a0c-b572-4b64-b1c0-44117387b8aa",
   "metadata": {},
   "source": [
    "#### Let's check if there are any rows in `customers` or `sellers` tables that do not exist in `geolocation`"
   ]
  },
  {
   "cell_type": "code",
   "execution_count": 25,
   "id": "4a1e87ed-af04-4434-bb87-48dea11986c6",
   "metadata": {},
   "outputs": [
    {
     "name": "stdout",
     "output_type": "stream",
     "text": [
      "<class 'pandas.core.frame.DataFrame'>\n",
      "Index: 318 entries, 33144 to 9502769\n",
      "Data columns (total 3 columns):\n",
      " #   Column                    Non-Null Count  Dtype \n",
      "---  ------                    --------------  ----- \n",
      " 0   customer_zip_code_prefix  318 non-null    int64 \n",
      " 1   customer_city             318 non-null    object\n",
      " 2   customer_state            318 non-null    object\n",
      "dtypes: int64(1), object(2)\n",
      "memory usage: 9.9+ KB\n"
     ]
    }
   ],
   "source": [
    "cust_join_col = ['customer_zip_code_prefix', 'customer_city', 'customer_state']\n",
    "geo_join_col = ['geolocation_zip_code_prefix', 'geolocation_city', 'geolocation_state']\n",
    "\n",
    "cust_geo_only = datasets['customers'].merge(datasets['geolocation'], left_on=cust_join_col,\n",
    "                           right_on=geo_join_col, how='left', \n",
    "                                            indicator=True).query('_merge == \"left_only\"').drop(columns=['_merge'])[cust_join_col]\n",
    "\n",
    "cust_geo_only.info()"
   ]
  },
  {
   "cell_type": "code",
   "execution_count": 26,
   "id": "8138db1c-0b85-4226-97cb-c568a1958bc2",
   "metadata": {},
   "outputs": [
    {
     "name": "stdout",
     "output_type": "stream",
     "text": [
      "<class 'pandas.core.frame.DataFrame'>\n",
      "Index: 137 entries, 371 to 268915\n",
      "Data columns (total 3 columns):\n",
      " #   Column                  Non-Null Count  Dtype \n",
      "---  ------                  --------------  ----- \n",
      " 0   seller_zip_code_prefix  137 non-null    int64 \n",
      " 1   seller_city             137 non-null    object\n",
      " 2   seller_state            137 non-null    object\n",
      "dtypes: int64(1), object(2)\n",
      "memory usage: 4.3+ KB\n"
     ]
    }
   ],
   "source": [
    "seller_join_col = ['seller_zip_code_prefix', 'seller_city', 'seller_state']\n",
    "\n",
    "\n",
    "seller_geo_only = datasets['sellers'].merge(datasets['geolocation'], left_on=seller_join_col,\n",
    "                           right_on=geo_join_col, how='left', \n",
    "                                            indicator=True).query('_merge == \"left_only\"').drop(columns=['_merge'])[seller_join_col]\n",
    "\n",
    "seller_geo_only.info()"
   ]
  },
  {
   "cell_type": "markdown",
   "id": "0a1b6d6a-dd87-4141-8d54-d77120809e8f",
   "metadata": {},
   "source": [
    "- Let's enrich the `geolocation` dataset with this data so we don't have missing values when performing the joins."
   ]
  },
  {
   "cell_type": "code",
   "execution_count": 27,
   "id": "55fb711e-78df-44bb-acc9-42717cbcef11",
   "metadata": {},
   "outputs": [],
   "source": [
    "datasets['geolocation'].columns = ['zip_code_prefix', 'city', 'state']\n",
    "cust_geo_only.columns = ['zip_code_prefix', 'city', 'state']\n",
    "seller_geo_only.columns = ['zip_code_prefix', 'city', 'state']"
   ]
  },
  {
   "cell_type": "code",
   "execution_count": 28,
   "id": "86ae9c18-cf0a-4066-900c-b644ebaecec5",
   "metadata": {},
   "outputs": [],
   "source": [
    "datasets['geolocation'] = pd.concat((datasets['geolocation'], cust_geo_only, seller_geo_only))"
   ]
  },
  {
   "cell_type": "code",
   "execution_count": 29,
   "id": "6892ec82-9985-4349-b874-c9c07ecd7b15",
   "metadata": {},
   "outputs": [
    {
     "data": {
      "text/plain": [
       "710566"
      ]
     },
     "execution_count": 29,
     "metadata": {},
     "output_type": "execute_result"
    }
   ],
   "source": [
    "# check duplicate rows\n",
    "datasets['geolocation'].duplicated().sum()"
   ]
  },
  {
   "cell_type": "code",
   "execution_count": 30,
   "id": "ab674556-5f4f-4dbc-9693-e3dd37c2c508",
   "metadata": {},
   "outputs": [
    {
     "data": {
      "text/plain": [
       "0"
      ]
     },
     "execution_count": 30,
     "metadata": {},
     "output_type": "execute_result"
    }
   ],
   "source": [
    "# drop duplicate rows\n",
    "datasets['geolocation'].drop_duplicates(inplace=True)\n",
    "\n",
    "# test\n",
    "datasets['geolocation'].duplicated().sum()"
   ]
  },
  {
   "cell_type": "code",
   "execution_count": 31,
   "id": "739118f5-3521-4f3d-aeb7-3b96ead22034",
   "metadata": {},
   "outputs": [
    {
     "data": {
      "text/plain": [
       "(28221, 3)"
      ]
     },
     "execution_count": 31,
     "metadata": {},
     "output_type": "execute_result"
    }
   ],
   "source": [
    "datasets['geolocation'].shape"
   ]
  },
  {
   "cell_type": "code",
   "execution_count": 32,
   "id": "b39f0eed-684f-45f0-9362-a3dad2c7991f",
   "metadata": {},
   "outputs": [],
   "source": [
    "# create a new primary key column `geo_id`\n",
    "datasets['geolocation']['geo_id'] = list(range(0, datasets['geolocation'].shape[0]))"
   ]
  },
  {
   "cell_type": "code",
   "execution_count": 33,
   "id": "681343be-aba4-4961-9563-155ecb510530",
   "metadata": {},
   "outputs": [
    {
     "data": {
      "text/html": [
       "<div>\n",
       "<style scoped>\n",
       "    .dataframe tbody tr th:only-of-type {\n",
       "        vertical-align: middle;\n",
       "    }\n",
       "\n",
       "    .dataframe tbody tr th {\n",
       "        vertical-align: top;\n",
       "    }\n",
       "\n",
       "    .dataframe thead th {\n",
       "        text-align: right;\n",
       "    }\n",
       "</style>\n",
       "<table border=\"1\" class=\"dataframe\">\n",
       "  <thead>\n",
       "    <tr style=\"text-align: right;\">\n",
       "      <th></th>\n",
       "      <th>zip_code_prefix</th>\n",
       "      <th>city</th>\n",
       "      <th>state</th>\n",
       "      <th>geo_id</th>\n",
       "    </tr>\n",
       "  </thead>\n",
       "  <tbody>\n",
       "    <tr>\n",
       "      <th>0</th>\n",
       "      <td>1037</td>\n",
       "      <td>sao paulo</td>\n",
       "      <td>SP</td>\n",
       "      <td>0</td>\n",
       "    </tr>\n",
       "    <tr>\n",
       "      <th>1</th>\n",
       "      <td>1046</td>\n",
       "      <td>sao paulo</td>\n",
       "      <td>SP</td>\n",
       "      <td>1</td>\n",
       "    </tr>\n",
       "    <tr>\n",
       "      <th>3</th>\n",
       "      <td>1041</td>\n",
       "      <td>sao paulo</td>\n",
       "      <td>SP</td>\n",
       "      <td>2</td>\n",
       "    </tr>\n",
       "    <tr>\n",
       "      <th>4</th>\n",
       "      <td>1035</td>\n",
       "      <td>sao paulo</td>\n",
       "      <td>SP</td>\n",
       "      <td>3</td>\n",
       "    </tr>\n",
       "    <tr>\n",
       "      <th>5</th>\n",
       "      <td>1012</td>\n",
       "      <td>são paulo</td>\n",
       "      <td>SP</td>\n",
       "      <td>4</td>\n",
       "    </tr>\n",
       "  </tbody>\n",
       "</table>\n",
       "</div>"
      ],
      "text/plain": [
       "   zip_code_prefix       city state  geo_id\n",
       "0             1037  sao paulo    SP       0\n",
       "1             1046  sao paulo    SP       1\n",
       "3             1041  sao paulo    SP       2\n",
       "4             1035  sao paulo    SP       3\n",
       "5             1012  são paulo    SP       4"
      ]
     },
     "execution_count": 33,
     "metadata": {},
     "output_type": "execute_result"
    }
   ],
   "source": [
    "datasets['geolocation'].head()"
   ]
  },
  {
   "cell_type": "code",
   "execution_count": 34,
   "id": "e5a42854-accd-422a-a4b6-d4990d3ee6c8",
   "metadata": {},
   "outputs": [
    {
     "name": "stdout",
     "output_type": "stream",
     "text": [
      "<class 'pandas.core.frame.DataFrame'>\n",
      "Index: 28221 entries, 0 to 268915\n",
      "Data columns (total 4 columns):\n",
      " #   Column           Non-Null Count  Dtype \n",
      "---  ------           --------------  ----- \n",
      " 0   zip_code_prefix  28221 non-null  int64 \n",
      " 1   city             28221 non-null  object\n",
      " 2   state            28221 non-null  object\n",
      " 3   geo_id           28221 non-null  int64 \n",
      "dtypes: int64(2), object(2)\n",
      "memory usage: 1.1+ MB\n"
     ]
    }
   ],
   "source": [
    "datasets['geolocation'].info()"
   ]
  },
  {
   "cell_type": "markdown",
   "id": "1fd946dd-0475-403b-8550-5e021573ae34",
   "metadata": {},
   "source": [
    "#### Add `geo_id` to `customers` table"
   ]
  },
  {
   "cell_type": "code",
   "execution_count": 35,
   "id": "1cea1f1d-ccad-4a46-a1bf-d055bdcdee70",
   "metadata": {},
   "outputs": [
    {
     "data": {
      "text/plain": [
       "(99441, 5)"
      ]
     },
     "execution_count": 35,
     "metadata": {},
     "output_type": "execute_result"
    }
   ],
   "source": [
    "datasets['customers'].shape"
   ]
  },
  {
   "cell_type": "code",
   "execution_count": 36,
   "id": "922d7e11-6c1f-4ab5-937b-c382f5d5b96b",
   "metadata": {},
   "outputs": [
    {
     "name": "stdout",
     "output_type": "stream",
     "text": [
      "<class 'pandas.core.frame.DataFrame'>\n",
      "RangeIndex: 99441 entries, 0 to 99440\n",
      "Data columns (total 3 columns):\n",
      " #   Column              Non-Null Count  Dtype \n",
      "---  ------              --------------  ----- \n",
      " 0   customer_id         99441 non-null  object\n",
      " 1   customer_unique_id  99441 non-null  object\n",
      " 2   geo_id              99441 non-null  int64 \n",
      "dtypes: int64(1), object(2)\n",
      "memory usage: 2.3+ MB\n"
     ]
    }
   ],
   "source": [
    "# add `geo_id` to `customers` table\n",
    "\n",
    "geo_join_col = ['zip_code_prefix', 'city', 'state']\n",
    "\n",
    "datasets['customers'] = datasets['customers'].merge(datasets['geolocation'], left_on=cust_join_col,\n",
    "                           right_on=geo_join_col, how='left')\n",
    "\n",
    "datasets['customers'] = datasets['customers'][['customer_id', 'customer_unique_id', 'geo_id']]\n",
    "datasets['customers'].info()"
   ]
  },
  {
   "cell_type": "markdown",
   "id": "1c0fd23f-9345-48d6-a755-a067dde7f212",
   "metadata": {},
   "source": [
    "### Add `geo_id` to `sellers` table"
   ]
  },
  {
   "cell_type": "code",
   "execution_count": 37,
   "id": "8de4b932-6fef-41a9-a52b-dcd68d468468",
   "metadata": {},
   "outputs": [
    {
     "data": {
      "text/plain": [
       "(3095, 4)"
      ]
     },
     "execution_count": 37,
     "metadata": {},
     "output_type": "execute_result"
    }
   ],
   "source": [
    "datasets['sellers'].shape"
   ]
  },
  {
   "cell_type": "code",
   "execution_count": 38,
   "id": "a479d3e1-714c-4215-8fec-3d599299d558",
   "metadata": {},
   "outputs": [
    {
     "name": "stdout",
     "output_type": "stream",
     "text": [
      "<class 'pandas.core.frame.DataFrame'>\n",
      "RangeIndex: 3095 entries, 0 to 3094\n",
      "Data columns (total 2 columns):\n",
      " #   Column     Non-Null Count  Dtype \n",
      "---  ------     --------------  ----- \n",
      " 0   seller_id  3095 non-null   object\n",
      " 1   geo_id     3095 non-null   int64 \n",
      "dtypes: int64(1), object(1)\n",
      "memory usage: 48.5+ KB\n"
     ]
    }
   ],
   "source": [
    "datasets['sellers'] = datasets['sellers'].merge(datasets['geolocation'], left_on=seller_join_col,\n",
    "                           right_on=geo_join_col, how='left')\n",
    "\n",
    "datasets['sellers'] = datasets['sellers'][['seller_id', 'geo_id']]\n",
    "datasets['sellers'].info()"
   ]
  },
  {
   "cell_type": "markdown",
   "id": "d0644646-8881-4410-8a75-e254d0dbcc39",
   "metadata": {},
   "source": [
    "#### Join `products` and `product_category_name_translation`"
   ]
  },
  {
   "cell_type": "code",
   "execution_count": 39,
   "id": "e759702e-6376-43a2-a896-666b32aaaf10",
   "metadata": {},
   "outputs": [],
   "source": [
    "datasets['products'] = datasets['products'].merge(datasets['product_category_name_translation'], on='product_category_name', how='left')"
   ]
  },
  {
   "cell_type": "code",
   "execution_count": 40,
   "id": "a1a9d196-0bdb-4544-bdfc-6a9a03f1aaf6",
   "metadata": {},
   "outputs": [],
   "source": [
    "datasets['products'].drop('product_category_name', axis=1, inplace=True)"
   ]
  },
  {
   "cell_type": "code",
   "execution_count": 41,
   "id": "ef39989d-d6a4-4d21-89f6-3a7a5a009731",
   "metadata": {},
   "outputs": [],
   "source": [
    "datasets['products'] = datasets['products'].rename(columns={'product_category_name_english': 'product_category_name'})"
   ]
  },
  {
   "cell_type": "markdown",
   "id": "4f1803dd-ee22-491a-85bc-d39a7a5ba7e4",
   "metadata": {},
   "source": [
    "## Check Cardinality"
   ]
  },
  {
   "cell_type": "markdown",
   "id": "34867025-501f-41ae-a031-6b0fccf199e0",
   "metadata": {},
   "source": [
    "#### Check whether the relationship between `reviews` and `orders` is one-to-one, as indicated in the data model.\n",
    "- Then, we will merge the two tables to align with our data model."
   ]
  },
  {
   "cell_type": "code",
   "execution_count": 42,
   "id": "5d291ab1-368a-4e1a-9574-f4c678c70a74",
   "metadata": {},
   "outputs": [
    {
     "data": {
      "text/plain": [
       "order_id\n",
       "c88b1d1b157a9999ce368f218a407141    3\n",
       "8e17072ec97ce29f0e1f111e598b0c85    3\n",
       "df56136b8031ecd28e200bb18e6ddb2e    3\n",
       "03c939fd7fd3b38f8485a0f95798f1f6    3\n",
       "5cb890a68b91b6158d69257e4e2bc359    2\n",
       "                                   ..\n",
       "5b4e9a12d219f34f5c2de9f8d620b19d    1\n",
       "a6da096d974acc000962856d7386448a    1\n",
       "75e0647c26de647eca3421e9cc66c9da    1\n",
       "bad0467c52f23cdc71e9fa139d4a8afd    1\n",
       "90531360ecb1eec2a1fbb265a0db0508    1\n",
       "Name: count, Length: 98673, dtype: int64"
      ]
     },
     "execution_count": 42,
     "metadata": {},
     "output_type": "execute_result"
    }
   ],
   "source": [
    "datasets['order_reviews'].order_id.value_counts()"
   ]
  },
  {
   "cell_type": "markdown",
   "id": "c25ae7d4-56f5-494c-bd2c-3c5864a22649",
   "metadata": {},
   "source": [
    "- There are some orders that have received more than one review. Let's investigate this further."
   ]
  },
  {
   "cell_type": "code",
   "execution_count": 43,
   "id": "4a71ed48-a5cd-4300-bd94-ab32b2ddb13d",
   "metadata": {},
   "outputs": [
    {
     "data": {
      "text/html": [
       "<div>\n",
       "<style scoped>\n",
       "    .dataframe tbody tr th:only-of-type {\n",
       "        vertical-align: middle;\n",
       "    }\n",
       "\n",
       "    .dataframe tbody tr th {\n",
       "        vertical-align: top;\n",
       "    }\n",
       "\n",
       "    .dataframe thead th {\n",
       "        text-align: right;\n",
       "    }\n",
       "</style>\n",
       "<table border=\"1\" class=\"dataframe\">\n",
       "  <thead>\n",
       "    <tr style=\"text-align: right;\">\n",
       "      <th></th>\n",
       "      <th>review_id</th>\n",
       "      <th>order_id</th>\n",
       "      <th>review_score</th>\n",
       "      <th>review_comment_title</th>\n",
       "      <th>review_comment_message</th>\n",
       "      <th>review_creation_date</th>\n",
       "      <th>review_answer_timestamp</th>\n",
       "    </tr>\n",
       "  </thead>\n",
       "  <tbody>\n",
       "    <tr>\n",
       "      <th>44694</th>\n",
       "      <td>67c2557eb0bd72e3ece1e03477c9dff5</td>\n",
       "      <td>8e17072ec97ce29f0e1f111e598b0c85</td>\n",
       "      <td>1</td>\n",
       "      <td>NaN</td>\n",
       "      <td>Entregou o produto errado.</td>\n",
       "      <td>2018-04-07 00:00:00</td>\n",
       "      <td>2018-04-08 22:48:27</td>\n",
       "    </tr>\n",
       "    <tr>\n",
       "      <th>64510</th>\n",
       "      <td>2d6ac45f859465b5c185274a1c929637</td>\n",
       "      <td>8e17072ec97ce29f0e1f111e598b0c85</td>\n",
       "      <td>1</td>\n",
       "      <td>NaN</td>\n",
       "      <td>Comprei 3 unidades do produto vieram 2 unidade...</td>\n",
       "      <td>2018-04-07 00:00:00</td>\n",
       "      <td>2018-04-07 21:13:05</td>\n",
       "    </tr>\n",
       "    <tr>\n",
       "      <th>92300</th>\n",
       "      <td>6e4c4086d9611ae4cc0cc65a262751fe</td>\n",
       "      <td>8e17072ec97ce29f0e1f111e598b0c85</td>\n",
       "      <td>1</td>\n",
       "      <td>NaN</td>\n",
       "      <td>Embora tenha entregue dentro do prazo, não env...</td>\n",
       "      <td>2018-04-14 00:00:00</td>\n",
       "      <td>2018-04-16 11:37:31</td>\n",
       "    </tr>\n",
       "  </tbody>\n",
       "</table>\n",
       "</div>"
      ],
      "text/plain": [
       "                              review_id                          order_id  \\\n",
       "44694  67c2557eb0bd72e3ece1e03477c9dff5  8e17072ec97ce29f0e1f111e598b0c85   \n",
       "64510  2d6ac45f859465b5c185274a1c929637  8e17072ec97ce29f0e1f111e598b0c85   \n",
       "92300  6e4c4086d9611ae4cc0cc65a262751fe  8e17072ec97ce29f0e1f111e598b0c85   \n",
       "\n",
       "       review_score review_comment_title  \\\n",
       "44694             1                  NaN   \n",
       "64510             1                  NaN   \n",
       "92300             1                  NaN   \n",
       "\n",
       "                                  review_comment_message review_creation_date  \\\n",
       "44694                         Entregou o produto errado.  2018-04-07 00:00:00   \n",
       "64510  Comprei 3 unidades do produto vieram 2 unidade...  2018-04-07 00:00:00   \n",
       "92300  Embora tenha entregue dentro do prazo, não env...  2018-04-14 00:00:00   \n",
       "\n",
       "      review_answer_timestamp  \n",
       "44694     2018-04-08 22:48:27  \n",
       "64510     2018-04-07 21:13:05  \n",
       "92300     2018-04-16 11:37:31  "
      ]
     },
     "execution_count": 43,
     "metadata": {},
     "output_type": "execute_result"
    }
   ],
   "source": [
    "datasets['order_reviews'][datasets['order_reviews'].order_id == '8e17072ec97ce29f0e1f111e598b0c85']"
   ]
  },
  {
   "cell_type": "markdown",
   "id": "bb6edd82-3911-4b41-8fa5-ddc56731f182",
   "metadata": {},
   "source": [
    "- The customer can submit multiple reviews for the same order after it has been received. To align with our data model design, I will keep only the review with the most recent `review_answer_timestamp`.\n"
   ]
  },
  {
   "cell_type": "code",
   "execution_count": 44,
   "id": "4cd46fa8-7837-4d71-a123-68901a0a4f26",
   "metadata": {},
   "outputs": [],
   "source": [
    "# Change the data type to datetime\n",
    "datasets['order_reviews'].review_answer_timestamp = pd.to_datetime(datasets['order_reviews'].review_answer_timestamp)"
   ]
  },
  {
   "cell_type": "code",
   "execution_count": 45,
   "id": "a49eec26-c07e-4c48-9f01-956aca23bb03",
   "metadata": {},
   "outputs": [],
   "source": [
    "# rank the reviews per order by review_answer_timestamp\n",
    "datasets['order_reviews']['row_number'] = datasets['order_reviews'].groupby('order_id')['review_answer_timestamp'].rank(method='first', \n",
    "                                                                                                                        ascending=False)\n"
   ]
  },
  {
   "cell_type": "code",
   "execution_count": 46,
   "id": "509afdd8-e86c-4701-b6c9-ee23799a2878",
   "metadata": {},
   "outputs": [
    {
     "data": {
      "text/html": [
       "<div>\n",
       "<style scoped>\n",
       "    .dataframe tbody tr th:only-of-type {\n",
       "        vertical-align: middle;\n",
       "    }\n",
       "\n",
       "    .dataframe tbody tr th {\n",
       "        vertical-align: top;\n",
       "    }\n",
       "\n",
       "    .dataframe thead th {\n",
       "        text-align: right;\n",
       "    }\n",
       "</style>\n",
       "<table border=\"1\" class=\"dataframe\">\n",
       "  <thead>\n",
       "    <tr style=\"text-align: right;\">\n",
       "      <th></th>\n",
       "      <th>review_id</th>\n",
       "      <th>order_id</th>\n",
       "      <th>review_score</th>\n",
       "      <th>review_comment_title</th>\n",
       "      <th>review_comment_message</th>\n",
       "      <th>review_creation_date</th>\n",
       "      <th>review_answer_timestamp</th>\n",
       "      <th>row_number</th>\n",
       "    </tr>\n",
       "  </thead>\n",
       "  <tbody>\n",
       "    <tr>\n",
       "      <th>44694</th>\n",
       "      <td>67c2557eb0bd72e3ece1e03477c9dff5</td>\n",
       "      <td>8e17072ec97ce29f0e1f111e598b0c85</td>\n",
       "      <td>1</td>\n",
       "      <td>NaN</td>\n",
       "      <td>Entregou o produto errado.</td>\n",
       "      <td>2018-04-07 00:00:00</td>\n",
       "      <td>2018-04-08 22:48:27</td>\n",
       "      <td>2.0</td>\n",
       "    </tr>\n",
       "    <tr>\n",
       "      <th>64510</th>\n",
       "      <td>2d6ac45f859465b5c185274a1c929637</td>\n",
       "      <td>8e17072ec97ce29f0e1f111e598b0c85</td>\n",
       "      <td>1</td>\n",
       "      <td>NaN</td>\n",
       "      <td>Comprei 3 unidades do produto vieram 2 unidade...</td>\n",
       "      <td>2018-04-07 00:00:00</td>\n",
       "      <td>2018-04-07 21:13:05</td>\n",
       "      <td>3.0</td>\n",
       "    </tr>\n",
       "    <tr>\n",
       "      <th>92300</th>\n",
       "      <td>6e4c4086d9611ae4cc0cc65a262751fe</td>\n",
       "      <td>8e17072ec97ce29f0e1f111e598b0c85</td>\n",
       "      <td>1</td>\n",
       "      <td>NaN</td>\n",
       "      <td>Embora tenha entregue dentro do prazo, não env...</td>\n",
       "      <td>2018-04-14 00:00:00</td>\n",
       "      <td>2018-04-16 11:37:31</td>\n",
       "      <td>1.0</td>\n",
       "    </tr>\n",
       "  </tbody>\n",
       "</table>\n",
       "</div>"
      ],
      "text/plain": [
       "                              review_id                          order_id  \\\n",
       "44694  67c2557eb0bd72e3ece1e03477c9dff5  8e17072ec97ce29f0e1f111e598b0c85   \n",
       "64510  2d6ac45f859465b5c185274a1c929637  8e17072ec97ce29f0e1f111e598b0c85   \n",
       "92300  6e4c4086d9611ae4cc0cc65a262751fe  8e17072ec97ce29f0e1f111e598b0c85   \n",
       "\n",
       "       review_score review_comment_title  \\\n",
       "44694             1                  NaN   \n",
       "64510             1                  NaN   \n",
       "92300             1                  NaN   \n",
       "\n",
       "                                  review_comment_message review_creation_date  \\\n",
       "44694                         Entregou o produto errado.  2018-04-07 00:00:00   \n",
       "64510  Comprei 3 unidades do produto vieram 2 unidade...  2018-04-07 00:00:00   \n",
       "92300  Embora tenha entregue dentro do prazo, não env...  2018-04-14 00:00:00   \n",
       "\n",
       "      review_answer_timestamp  row_number  \n",
       "44694     2018-04-08 22:48:27         2.0  \n",
       "64510     2018-04-07 21:13:05         3.0  \n",
       "92300     2018-04-16 11:37:31         1.0  "
      ]
     },
     "execution_count": 46,
     "metadata": {},
     "output_type": "execute_result"
    }
   ],
   "source": [
    "# Check that the ranking is working correctly and it assigns one to the most recent date.\n",
    "datasets['order_reviews'][datasets['order_reviews'].order_id == '8e17072ec97ce29f0e1f111e598b0c85']"
   ]
  },
  {
   "cell_type": "code",
   "execution_count": 47,
   "id": "861918c0-154b-4902-857d-8b76b1947057",
   "metadata": {},
   "outputs": [],
   "source": [
    "datasets['order_reviews'] = datasets['order_reviews'][datasets['order_reviews'].row_number == 1.0].drop('row_number', axis=1)"
   ]
  },
  {
   "cell_type": "code",
   "execution_count": 48,
   "id": "fa206d62-18a3-492a-b2f4-1eeea9b1cf47",
   "metadata": {},
   "outputs": [
    {
     "data": {
      "text/html": [
       "<div>\n",
       "<style scoped>\n",
       "    .dataframe tbody tr th:only-of-type {\n",
       "        vertical-align: middle;\n",
       "    }\n",
       "\n",
       "    .dataframe tbody tr th {\n",
       "        vertical-align: top;\n",
       "    }\n",
       "\n",
       "    .dataframe thead th {\n",
       "        text-align: right;\n",
       "    }\n",
       "</style>\n",
       "<table border=\"1\" class=\"dataframe\">\n",
       "  <thead>\n",
       "    <tr style=\"text-align: right;\">\n",
       "      <th></th>\n",
       "      <th>review_id</th>\n",
       "      <th>order_id</th>\n",
       "      <th>review_score</th>\n",
       "      <th>review_comment_title</th>\n",
       "      <th>review_comment_message</th>\n",
       "      <th>review_creation_date</th>\n",
       "      <th>review_answer_timestamp</th>\n",
       "    </tr>\n",
       "  </thead>\n",
       "  <tbody>\n",
       "    <tr>\n",
       "      <th>92300</th>\n",
       "      <td>6e4c4086d9611ae4cc0cc65a262751fe</td>\n",
       "      <td>8e17072ec97ce29f0e1f111e598b0c85</td>\n",
       "      <td>1</td>\n",
       "      <td>NaN</td>\n",
       "      <td>Embora tenha entregue dentro do prazo, não env...</td>\n",
       "      <td>2018-04-14 00:00:00</td>\n",
       "      <td>2018-04-16 11:37:31</td>\n",
       "    </tr>\n",
       "  </tbody>\n",
       "</table>\n",
       "</div>"
      ],
      "text/plain": [
       "                              review_id                          order_id  \\\n",
       "92300  6e4c4086d9611ae4cc0cc65a262751fe  8e17072ec97ce29f0e1f111e598b0c85   \n",
       "\n",
       "       review_score review_comment_title  \\\n",
       "92300             1                  NaN   \n",
       "\n",
       "                                  review_comment_message review_creation_date  \\\n",
       "92300  Embora tenha entregue dentro do prazo, não env...  2018-04-14 00:00:00   \n",
       "\n",
       "      review_answer_timestamp  \n",
       "92300     2018-04-16 11:37:31  "
      ]
     },
     "execution_count": 48,
     "metadata": {},
     "output_type": "execute_result"
    }
   ],
   "source": [
    "# Test whether the code worked and confirm that only the most recent review was kept.\n",
    "datasets['order_reviews'][datasets['order_reviews'].order_id == '8e17072ec97ce29f0e1f111e598b0c85']\n",
    "# Done :)"
   ]
  },
  {
   "cell_type": "code",
   "execution_count": 49,
   "id": "f269ddc5-a187-4ca3-ad6c-9aad045113a9",
   "metadata": {},
   "outputs": [
    {
     "data": {
      "text/plain": [
       "order_id\n",
       "73fc7af87114b39712e6da79b0a377eb    1\n",
       "2ae6bf810adb8aa11c97527eb4e62a15    1\n",
       "6051e6d3da9a50b7325cbe9c81025062    1\n",
       "2e2d43380f2a8c56a9378e75b9b474fe    1\n",
       "b2c1d65b858a8658622354076fafbd0c    1\n",
       "                                   ..\n",
       "659a4b8e5c9540667f4d4d5607bc8f79    1\n",
       "d92888ccf9b2ae4399868e099fadf925    1\n",
       "ea5eae45d22308768d97e85db1d51269    1\n",
       "260799d8b7f9539cd4cd5a5e513a281d    1\n",
       "90531360ecb1eec2a1fbb265a0db0508    1\n",
       "Name: count, Length: 98673, dtype: int64"
      ]
     },
     "execution_count": 49,
     "metadata": {},
     "output_type": "execute_result"
    }
   ],
   "source": [
    "datasets['order_reviews'].order_id.value_counts()\n",
    "# yes, it is one to one"
   ]
  },
  {
   "cell_type": "code",
   "execution_count": 50,
   "id": "655d9ace-b64f-45f3-8322-bd399d0c0ae4",
   "metadata": {},
   "outputs": [
    {
     "data": {
      "text/plain": [
       "(99441, 8)"
      ]
     },
     "execution_count": 50,
     "metadata": {},
     "output_type": "execute_result"
    }
   ],
   "source": [
    "datasets['orders'].shape"
   ]
  },
  {
   "cell_type": "code",
   "execution_count": 51,
   "id": "543ffd4d-3593-4f6c-a21a-30cb729570e8",
   "metadata": {},
   "outputs": [],
   "source": [
    "datasets['orders'] = datasets['orders'].merge(datasets['order_reviews'], on='order_id', how='left')"
   ]
  },
  {
   "cell_type": "code",
   "execution_count": 52,
   "id": "63d06e9d-0b30-40fb-a8a4-91681ea616c0",
   "metadata": {},
   "outputs": [
    {
     "name": "stdout",
     "output_type": "stream",
     "text": [
      "<class 'pandas.core.frame.DataFrame'>\n",
      "RangeIndex: 99441 entries, 0 to 99440\n",
      "Data columns (total 13 columns):\n",
      " #   Column                         Non-Null Count  Dtype         \n",
      "---  ------                         --------------  -----         \n",
      " 0   order_id                       99441 non-null  object        \n",
      " 1   customer_id                    99441 non-null  object        \n",
      " 2   order_status                   99441 non-null  object        \n",
      " 3   order_purchase_timestamp       99441 non-null  object        \n",
      " 4   order_approved_at              99281 non-null  object        \n",
      " 5   order_delivered_carrier_date   97658 non-null  object        \n",
      " 6   order_delivered_customer_date  96476 non-null  object        \n",
      " 7   order_estimated_delivery_date  99441 non-null  object        \n",
      " 8   review_score                   98673 non-null  float64       \n",
      " 9   review_comment_title           11550 non-null  object        \n",
      " 10  review_comment_message         40775 non-null  object        \n",
      " 11  review_creation_date           98673 non-null  object        \n",
      " 12  review_answer_timestamp        98673 non-null  datetime64[ns]\n",
      "dtypes: datetime64[ns](1), float64(1), object(11)\n",
      "memory usage: 9.9+ MB\n"
     ]
    }
   ],
   "source": [
    "datasets['orders'] = datasets['orders'].drop('review_id', axis=1)\n",
    "\n",
    "datasets['orders'].info()"
   ]
  },
  {
   "cell_type": "markdown",
   "id": "74ec6754-38f0-47bd-afb4-8e8ab19fad03",
   "metadata": {},
   "source": [
    "### Check whether the relationship between customers and orders is one-to-many, as indicated in the data model."
   ]
  },
  {
   "cell_type": "code",
   "execution_count": 53,
   "id": "c28ab6e9-7d67-4f93-9e06-38490cc52bad",
   "metadata": {},
   "outputs": [
    {
     "data": {
      "text/plain": [
       "customer_id\n",
       "9ef432eb6251297304e76186b10a928d    1\n",
       "413f7e58270a32396af030a075b924be    1\n",
       "eb4350b67a0264c67e5e06a038e4afbb    1\n",
       "622b07d262d545d16efbd4363a89cb91    1\n",
       "c701fbfa77791abd05eef9eacf7ea7a8    1\n",
       "                                   ..\n",
       "39585f08d13377e50fde35467984e6eb    1\n",
       "eb3d995301c320683de629f5b4dd0c78    1\n",
       "f2507ea56d748a23037bb1214964e87d    1\n",
       "ae8269d850cd3a3d06a56877c450b3f8    1\n",
       "edb027a75a1449115f6b43211ae02a24    1\n",
       "Name: count, Length: 99441, dtype: int64"
      ]
     },
     "execution_count": 53,
     "metadata": {},
     "output_type": "execute_result"
    }
   ],
   "source": [
    "datasets['orders'].customer_id.value_counts()"
   ]
  },
  {
   "cell_type": "markdown",
   "id": "4bae4f05-ce8c-4db3-8446-c3db647d56eb",
   "metadata": {},
   "source": [
    "- Yes, that makes sense. The issue occurs because `customer_id` is not unique for each customer.\n",
    "- We'll fix it by joining the two tables on the `customer_id` column to bring `customer_unique_id` into the `orders` table. Then, we’ll drop `customer_id` from both tables and remove duplicates from the `customers` table to ensure each customer is represented once.\n"
   ]
  },
  {
   "cell_type": "code",
   "execution_count": 54,
   "id": "773b1edd-62e3-4f89-b4cb-65bacc8fdbc3",
   "metadata": {},
   "outputs": [
    {
     "name": "stdout",
     "output_type": "stream",
     "text": [
      "<class 'pandas.core.frame.DataFrame'>\n",
      "RangeIndex: 99441 entries, 0 to 99440\n",
      "Data columns (total 14 columns):\n",
      " #   Column                         Non-Null Count  Dtype         \n",
      "---  ------                         --------------  -----         \n",
      " 0   order_id                       99441 non-null  object        \n",
      " 1   customer_id                    99441 non-null  object        \n",
      " 2   order_status                   99441 non-null  object        \n",
      " 3   order_purchase_timestamp       99441 non-null  object        \n",
      " 4   order_approved_at              99281 non-null  object        \n",
      " 5   order_delivered_carrier_date   97658 non-null  object        \n",
      " 6   order_delivered_customer_date  96476 non-null  object        \n",
      " 7   order_estimated_delivery_date  99441 non-null  object        \n",
      " 8   review_score                   98673 non-null  float64       \n",
      " 9   review_comment_title           11550 non-null  object        \n",
      " 10  review_comment_message         40775 non-null  object        \n",
      " 11  review_creation_date           98673 non-null  object        \n",
      " 12  review_answer_timestamp        98673 non-null  datetime64[ns]\n",
      " 13  customer_unique_id             99441 non-null  object        \n",
      "dtypes: datetime64[ns](1), float64(1), object(12)\n",
      "memory usage: 10.6+ MB\n"
     ]
    }
   ],
   "source": [
    "datasets['orders'] = datasets['orders'].merge(datasets['customers'][['customer_id', 'customer_unique_id']], on='customer_id', how='left')\n",
    "datasets['orders'].info()"
   ]
  },
  {
   "cell_type": "code",
   "execution_count": 55,
   "id": "2c468e25-83d7-4e5f-aada-0a6dd38218f5",
   "metadata": {},
   "outputs": [],
   "source": [
    "datasets['customers'].drop('customer_id', axis=1, inplace=True)\n",
    "datasets['orders'].drop('customer_id', axis=1, inplace=True)"
   ]
  },
  {
   "cell_type": "code",
   "execution_count": 56,
   "id": "4d1c4287-af4b-4dd9-ae10-6c24e5583ea0",
   "metadata": {},
   "outputs": [
    {
     "name": "stdout",
     "output_type": "stream",
     "text": [
      "False\n"
     ]
    }
   ],
   "source": [
    "print(('customer_id' in datasets['customers'].columns) | ('customer_id' in datasets['orders'].columns))"
   ]
  },
  {
   "cell_type": "code",
   "execution_count": 57,
   "id": "7ea776ba-dcec-4764-b539-609798e9497d",
   "metadata": {},
   "outputs": [
    {
     "data": {
      "text/plain": [
       "3089"
      ]
     },
     "execution_count": 57,
     "metadata": {},
     "output_type": "execute_result"
    }
   ],
   "source": [
    "datasets['customers'].duplicated().sum()"
   ]
  },
  {
   "cell_type": "code",
   "execution_count": 58,
   "id": "fced1500-1d10-408a-afd4-6e368a946cab",
   "metadata": {},
   "outputs": [],
   "source": [
    "datasets['customers'].drop_duplicates(subset='customer_unique_id', inplace=True)"
   ]
  },
  {
   "cell_type": "code",
   "execution_count": 59,
   "id": "ad5b5d0e-c1b2-4f3c-8c1c-a9f52f2d9d9b",
   "metadata": {},
   "outputs": [
    {
     "data": {
      "text/plain": [
       "0"
      ]
     },
     "execution_count": 59,
     "metadata": {},
     "output_type": "execute_result"
    }
   ],
   "source": [
    "datasets['customers'].duplicated().sum()"
   ]
  },
  {
   "cell_type": "code",
   "execution_count": 60,
   "id": "0ba9bcee-3616-4063-bd77-54da7c81dfad",
   "metadata": {},
   "outputs": [
    {
     "name": "stdout",
     "output_type": "stream",
     "text": [
      "<class 'pandas.core.frame.DataFrame'>\n",
      "Index: 96096 entries, 0 to 99440\n",
      "Data columns (total 2 columns):\n",
      " #   Column              Non-Null Count  Dtype \n",
      "---  ------              --------------  ----- \n",
      " 0   customer_unique_id  96096 non-null  object\n",
      " 1   geo_id              96096 non-null  int64 \n",
      "dtypes: int64(1), object(1)\n",
      "memory usage: 2.2+ MB\n"
     ]
    }
   ],
   "source": [
    "datasets['customers'].info()"
   ]
  },
  {
   "cell_type": "code",
   "execution_count": null,
   "id": "3d776831-2bf2-4dfb-8b36-530ecc54f24d",
   "metadata": {},
   "outputs": [],
   "source": []
  },
  {
   "cell_type": "markdown",
   "id": "c90ff6bd-a0bd-413f-80e7-aa5596dd7e07",
   "metadata": {},
   "source": [
    "#### Check whether the relationship between `sellers` and `closed_deals` is one-to-one, as indicated in the data model.\n"
   ]
  },
  {
   "cell_type": "code",
   "execution_count": 61,
   "id": "5549bea0-7793-42ac-9bef-76ab05026877",
   "metadata": {},
   "outputs": [
    {
     "data": {
      "text/plain": [
       "seller_id\n",
       "2c43fb513632d29b3b58df74816f1b06    1\n",
       "c092292535a57dacd95a8765f5518f87    1\n",
       "de83e0600df76319c24c3670ebcb2d5f    1\n",
       "85182120f8a3331fcddb54f27a77dda2    1\n",
       "bb219facd42c2384181e8f3330b42df9    1\n",
       "                                   ..\n",
       "76bf0e3e7d311d9069d4512cc1a232d7    1\n",
       "4ff8d644ff76721b86fdc7c75c48d4a6    1\n",
       "59ddca14932ec5557c099a51c4d5a58e    1\n",
       "8c9348f33ae3dada25c99c99ade2af78    1\n",
       "1bba9c94eb5c4e82fba9f7286fe81025    1\n",
       "Name: count, Length: 842, dtype: int64"
      ]
     },
     "execution_count": 61,
     "metadata": {},
     "output_type": "execute_result"
    }
   ],
   "source": [
    "datasets['closed_deals'].seller_id.value_counts()"
   ]
  },
  {
   "cell_type": "markdown",
   "id": "7eee35ac-876d-41cd-bb09-431f2e41c2f4",
   "metadata": {},
   "source": [
    "## Data Generation and Enrichment"
   ]
  },
  {
   "cell_type": "markdown",
   "id": "64778a07-c310-44d3-8285-6f611bc59f38",
   "metadata": {},
   "source": [
    "* Handle Missing Seller Records in the `closed_deals`:\n",
    "    * Address the data integrity issue where some sellers exist in the `closed_deals` table but not in the main `sellers` table.\n",
    "    * Impute these missing seller records using data from valid sellers found in the `sellers` table.\n",
    "* Impute `declared_product_catalog_size`:\n",
    "    * Fill in missing values for each seller with their actual count of unique products sold.\n",
    "\n",
    "* Impute `declared_monthly_revenue`:\n",
    "    * Fill in missing values for each seller with their total revenue, calculated as the sum of `price` and `freight_value` for all items they have sold.\n",
    "    \n",
    "* Generate data for `customer_name` and `customer_gender` in the `customers` table, and for `seller_name` and `seller_gender` in the `sellers` table.\n",
    "* Create a new `employees` table based on the sales representatives and sales development representatives' IDs from the data, and generate names for those employees. Then, add the Facebook page URL for some of the sales reps.\n",
    "  \n",
    "\n",
    "\n"
   ]
  },
  {
   "cell_type": "code",
   "execution_count": 62,
   "id": "37d4b222-a937-4884-b06e-6c21797bab3b",
   "metadata": {},
   "outputs": [
    {
     "data": {
      "text/plain": [
       "dict_keys(['closed_deals', 'customers', 'geolocation', 'marketing_qualified_leads', 'orders', 'order_items', 'order_payments', 'order_reviews', 'products', 'sellers', 'product_category_name_translation'])"
      ]
     },
     "execution_count": 62,
     "metadata": {},
     "output_type": "execute_result"
    }
   ],
   "source": [
    "datasets.keys()"
   ]
  },
  {
   "cell_type": "code",
   "execution_count": 63,
   "id": "56708b49-3738-47d1-bde3-0af4d29d8fd7",
   "metadata": {},
   "outputs": [],
   "source": [
    "closed_deals_clean = datasets['closed_deals'].copy()"
   ]
  },
  {
   "cell_type": "code",
   "execution_count": 64,
   "id": "50a1bafe-fd4e-4708-9844-4083c1b21943",
   "metadata": {},
   "outputs": [
    {
     "data": {
      "text/html": [
       "<div>\n",
       "<style scoped>\n",
       "    .dataframe tbody tr th:only-of-type {\n",
       "        vertical-align: middle;\n",
       "    }\n",
       "\n",
       "    .dataframe tbody tr th {\n",
       "        vertical-align: top;\n",
       "    }\n",
       "\n",
       "    .dataframe thead th {\n",
       "        text-align: right;\n",
       "    }\n",
       "</style>\n",
       "<table border=\"1\" class=\"dataframe\">\n",
       "  <thead>\n",
       "    <tr style=\"text-align: right;\">\n",
       "      <th></th>\n",
       "      <th>seller_id</th>\n",
       "      <th>unique_products</th>\n",
       "      <th>total_revenue</th>\n",
       "    </tr>\n",
       "  </thead>\n",
       "  <tbody>\n",
       "    <tr>\n",
       "      <th>0</th>\n",
       "      <td>0015a82c2db000af6aaaf3ae2ecb0532</td>\n",
       "      <td>1</td>\n",
       "      <td>2685.00</td>\n",
       "    </tr>\n",
       "    <tr>\n",
       "      <th>1</th>\n",
       "      <td>001cca7ae9ae17fb1caed9dfb1094831</td>\n",
       "      <td>11</td>\n",
       "      <td>25080.03</td>\n",
       "    </tr>\n",
       "    <tr>\n",
       "      <th>2</th>\n",
       "      <td>001e6ad469a905060d959994f1b41e4f</td>\n",
       "      <td>1</td>\n",
       "      <td>250.00</td>\n",
       "    </tr>\n",
       "    <tr>\n",
       "      <th>3</th>\n",
       "      <td>002100f778ceb8431b7a1020ff7ab48f</td>\n",
       "      <td>24</td>\n",
       "      <td>1234.50</td>\n",
       "    </tr>\n",
       "    <tr>\n",
       "      <th>4</th>\n",
       "      <td>003554e2dce176b5555353e4f3555ac8</td>\n",
       "      <td>1</td>\n",
       "      <td>120.00</td>\n",
       "    </tr>\n",
       "    <tr>\n",
       "      <th>...</th>\n",
       "      <td>...</td>\n",
       "      <td>...</td>\n",
       "      <td>...</td>\n",
       "    </tr>\n",
       "    <tr>\n",
       "      <th>3090</th>\n",
       "      <td>ffcfefa19b08742c5d315f2791395ee5</td>\n",
       "      <td>1</td>\n",
       "      <td>69.90</td>\n",
       "    </tr>\n",
       "    <tr>\n",
       "      <th>3091</th>\n",
       "      <td>ffdd9f82b9a447f6f8d4b91554cc7dd3</td>\n",
       "      <td>12</td>\n",
       "      <td>2101.20</td>\n",
       "    </tr>\n",
       "    <tr>\n",
       "      <th>3092</th>\n",
       "      <td>ffeee66ac5d5a62fe688b9d26f83f534</td>\n",
       "      <td>3</td>\n",
       "      <td>1839.86</td>\n",
       "    </tr>\n",
       "    <tr>\n",
       "      <th>3093</th>\n",
       "      <td>fffd5413c0700ac820c7069d66d98c89</td>\n",
       "      <td>29</td>\n",
       "      <td>9062.30</td>\n",
       "    </tr>\n",
       "    <tr>\n",
       "      <th>3094</th>\n",
       "      <td>ffff564a4f9085cd26170f4732393726</td>\n",
       "      <td>15</td>\n",
       "      <td>1426.30</td>\n",
       "    </tr>\n",
       "  </tbody>\n",
       "</table>\n",
       "<p>3095 rows × 3 columns</p>\n",
       "</div>"
      ],
      "text/plain": [
       "                             seller_id  unique_products  total_revenue\n",
       "0     0015a82c2db000af6aaaf3ae2ecb0532                1        2685.00\n",
       "1     001cca7ae9ae17fb1caed9dfb1094831               11       25080.03\n",
       "2     001e6ad469a905060d959994f1b41e4f                1         250.00\n",
       "3     002100f778ceb8431b7a1020ff7ab48f               24        1234.50\n",
       "4     003554e2dce176b5555353e4f3555ac8                1         120.00\n",
       "...                                ...              ...            ...\n",
       "3090  ffcfefa19b08742c5d315f2791395ee5                1          69.90\n",
       "3091  ffdd9f82b9a447f6f8d4b91554cc7dd3               12        2101.20\n",
       "3092  ffeee66ac5d5a62fe688b9d26f83f534                3        1839.86\n",
       "3093  fffd5413c0700ac820c7069d66d98c89               29        9062.30\n",
       "3094  ffff564a4f9085cd26170f4732393726               15        1426.30\n",
       "\n",
       "[3095 rows x 3 columns]"
      ]
     },
     "execution_count": 64,
     "metadata": {},
     "output_type": "execute_result"
    }
   ],
   "source": [
    "summary_seller = datasets['order_items'].groupby('seller_id', as_index=False).agg(\n",
    "    # Creates a new column 'unique_products' by counting the unique product_id's for each seller\n",
    "    unique_products=('product_id', 'nunique'),\n",
    "    \n",
    "    # Creates a new column 'total_revenue' by summing the price for each seller\n",
    "    total_revenue=('price', 'sum')\n",
    ")\n",
    "summary_seller"
   ]
  },
  {
   "cell_type": "code",
   "execution_count": 65,
   "id": "01f578e9-4439-4f85-bffd-fe2bb99df1fb",
   "metadata": {},
   "outputs": [
    {
     "name": "stdout",
     "output_type": "stream",
     "text": [
      "Unique sellers after replacement: 842\n",
      "All sellers valid: True\n"
     ]
    }
   ],
   "source": [
    "# Get sets of seller IDs from each dataset\n",
    "sellers_in_master = set(datasets['sellers']['seller_id'])\n",
    "sellers_in_closed_deals = set(closed_deals_clean['seller_id'])\n",
    "\n",
    "# Identify sellers that exist in sellers table but have no closed deals\n",
    "sellers_without_deals = sellers_in_master - sellers_in_closed_deals\n",
    "# Identify orphan seller IDs (appear in closed_deals but not in sellers table)\n",
    "orphan_seller_ids = sellers_in_closed_deals - sellers_in_master\n",
    "\n",
    "summary_seller_without_deals = summary_seller[summary_seller.seller_id.isin(sellers_without_deals)]\n",
    "summary_seller_with_deals = summary_seller[summary_seller.seller_id.isin(sellers_in_master & sellers_in_closed_deals)]\n",
    "\n",
    "mask1 = (summary_seller_without_deals.unique_products > summary_seller_without_deals.unique_products.median()) \n",
    "mask2 = (summary_seller_without_deals.total_revenue > summary_seller_without_deals.total_revenue.median())\n",
    "summary_seller_without_deals = summary_seller_without_deals[mask1 & mask2]\n",
    "\n",
    "\n",
    "# Randomly assign valid seller IDs from sellers_without_deals to replace orphan ones\n",
    "replacement_seller_ids = np.random.choice(\n",
    "    list(summary_seller_without_deals.seller_id), \n",
    "    size=len(orphan_seller_ids), \n",
    "    replace=False\n",
    ")\n",
    "\n",
    "# Replace orphan seller IDs in closed_deals with valid replacements\n",
    "closed_deals_clean.loc[\n",
    "    closed_deals_clean['seller_id'].isin(orphan_seller_ids), \n",
    "    'seller_id'\n",
    "] = replacement_seller_ids\n",
    "\n",
    "# Check results\n",
    "print(\"Unique sellers after replacement:\", closed_deals_clean['seller_id'].nunique())\n",
    "print(\"All sellers valid:\", closed_deals_clean['seller_id'].isin(sellers_in_master).all())\n"
   ]
  },
  {
   "cell_type": "code",
   "execution_count": 66,
   "id": "692901d2-b178-4cd6-a042-39acd8570da6",
   "metadata": {},
   "outputs": [
    {
     "data": {
      "text/plain": [
       "(842, 3)"
      ]
     },
     "execution_count": 66,
     "metadata": {},
     "output_type": "execute_result"
    }
   ],
   "source": [
    "added_sellers = summary_seller_without_deals[summary_seller_without_deals.seller_id.isin(replacement_seller_ids)]\n",
    "\n",
    "summary_seller_with_deals = pd.concat((summary_seller_with_deals, added_sellers), axis=0)\n",
    "summary_seller_with_deals.shape"
   ]
  },
  {
   "cell_type": "code",
   "execution_count": null,
   "id": "15ff014e-bae5-49c9-bd23-3905ce8efd6f",
   "metadata": {},
   "outputs": [],
   "source": []
  },
  {
   "cell_type": "code",
   "execution_count": 67,
   "id": "1ae4a3d2-8daf-4339-8ab3-b650384ec52e",
   "metadata": {},
   "outputs": [],
   "source": [
    "closed_deals_clean = closed_deals_clean.merge(summary_seller_with_deals, on='seller_id', how='inner')\n",
    "\n",
    "closed_deals_clean['total_revenue'] = closed_deals_clean['total_revenue'] * np.random.uniform(0.85, 1.15, len(closed_deals_clean))\n",
    "\n",
    "# Optionally round to 2 decimals for realism\n",
    "closed_deals_clean['total_revenue'] = closed_deals_clean['total_revenue'].round(2)\n",
    "\n",
    "closed_deals_clean['declared_product_catalog_size'] = np.where(\n",
    "    (closed_deals_clean['declared_product_catalog_size'].isna()) | (closed_deals_clean['declared_product_catalog_size'] == 0),\n",
    "    closed_deals_clean['unique_products'],  # Use the value from summary\n",
    "    closed_deals_clean['declared_product_catalog_size']  # Keep the original\n",
    ")\n",
    "\n",
    "closed_deals_clean['declared_monthly_revenue'] = np.where(\n",
    "    (closed_deals_clean['declared_monthly_revenue'].isna()) | (closed_deals_clean['declared_monthly_revenue'] == 0),\n",
    "    closed_deals_clean['total_revenue'],  # Use the value from summary\n",
    "    closed_deals_clean['declared_monthly_revenue']  # Keep the original\n",
    ")"
   ]
  },
  {
   "cell_type": "code",
   "execution_count": 68,
   "id": "baedc2ab-89b3-4a1f-9310-854ceab78596",
   "metadata": {},
   "outputs": [
    {
     "name": "stdout",
     "output_type": "stream",
     "text": [
      "<class 'pandas.core.frame.DataFrame'>\n",
      "RangeIndex: 842 entries, 0 to 841\n",
      "Data columns (total 16 columns):\n",
      " #   Column                         Non-Null Count  Dtype  \n",
      "---  ------                         --------------  -----  \n",
      " 0   mql_id                         842 non-null    object \n",
      " 1   seller_id                      842 non-null    object \n",
      " 2   sdr_id                         842 non-null    object \n",
      " 3   sr_id                          842 non-null    object \n",
      " 4   won_date                       842 non-null    object \n",
      " 5   business_segment               841 non-null    object \n",
      " 6   lead_type                      836 non-null    object \n",
      " 7   lead_behaviour_profile         665 non-null    object \n",
      " 8   has_company                    63 non-null     object \n",
      " 9   has_gtin                       64 non-null     object \n",
      " 10  average_stock                  66 non-null     object \n",
      " 11  business_type                  832 non-null    object \n",
      " 12  declared_product_catalog_size  842 non-null    float64\n",
      " 13  declared_monthly_revenue       842 non-null    float64\n",
      " 14  unique_products                842 non-null    int64  \n",
      " 15  total_revenue                  842 non-null    float64\n",
      "dtypes: float64(3), int64(1), object(12)\n",
      "memory usage: 105.4+ KB\n"
     ]
    }
   ],
   "source": [
    "closed_deals_clean.info()"
   ]
  },
  {
   "cell_type": "code",
   "execution_count": 69,
   "id": "3e68af43-b30b-4964-b5b2-4fa76387749e",
   "metadata": {},
   "outputs": [],
   "source": [
    "closed_deals_clean = closed_deals_clean.drop(['unique_products', 'total_revenue'], axis=1)\n",
    "\n",
    "datasets['closed_deals'] = closed_deals_clean"
   ]
  },
  {
   "cell_type": "markdown",
   "id": "8ee4d75c-e3e1-4e92-a3aa-f90a66716533",
   "metadata": {},
   "source": [
    "### Create Employee Table"
   ]
  },
  {
   "cell_type": "code",
   "execution_count": 70,
   "id": "df8ce32c-047d-4a6a-aa36-275c1f87bf07",
   "metadata": {},
   "outputs": [],
   "source": [
    "sr_ids = datasets['closed_deals'].sr_id.unique().tolist()\n",
    "sdr_ids = datasets['closed_deals'].sdr_id.unique().tolist()"
   ]
  },
  {
   "cell_type": "code",
   "execution_count": 71,
   "id": "1edda0ab-e996-4fe7-97db-73f46206c1a9",
   "metadata": {},
   "outputs": [
    {
     "data": {
      "text/plain": [
       "(22, 32)"
      ]
     },
     "execution_count": 71,
     "metadata": {},
     "output_type": "execute_result"
    }
   ],
   "source": [
    "len(sr_ids), len(sdr_ids)"
   ]
  },
  {
   "cell_type": "code",
   "execution_count": 72,
   "id": "192a285c-6da4-40ef-bfcf-907fb5fa2ded",
   "metadata": {},
   "outputs": [
    {
     "data": {
      "text/plain": [
       "{1, 3}"
      ]
     },
     "execution_count": 72,
     "metadata": {},
     "output_type": "execute_result"
    }
   ],
   "source": [
    "set([1, 2, 3]) - set([2, 4, 5])"
   ]
  },
  {
   "cell_type": "code",
   "execution_count": 73,
   "id": "56af8212-3ae1-4064-adae-e98f7501a74c",
   "metadata": {},
   "outputs": [],
   "source": [
    "sr_and_sdr_ids = set(sr_ids) & set(sdr_ids)\n",
    "sr_ids = set(sr_ids) - sr_and_sdr_ids\n",
    "sdr_ids = set(sdr_ids) - sr_and_sdr_ids\n",
    "\n",
    "def get_role_type(emp_id):\n",
    "    if emp_id in sr_and_sdr_ids:\n",
    "        return 'Both'\n",
    "    elif emp_id in sr_ids:\n",
    "        return 'Sales Representative'\n",
    "    elif emp_id in sdr_ids:\n",
    "        return 'Sales Development Representative'"
   ]
  },
  {
   "cell_type": "code",
   "execution_count": 74,
   "id": "fc34f3cc-c4f9-4b47-97ea-81c8ed3c62b2",
   "metadata": {},
   "outputs": [
    {
     "data": {
      "text/plain": [
       "13"
      ]
     },
     "execution_count": 74,
     "metadata": {},
     "output_type": "execute_result"
    }
   ],
   "source": [
    "len(sr_and_sdr_ids)"
   ]
  },
  {
   "cell_type": "code",
   "execution_count": 75,
   "id": "1fd95132-48ad-4b74-a7ec-ab20640a700c",
   "metadata": {},
   "outputs": [],
   "source": [
    "emps_ids = list(sr_and_sdr_ids) + list(sr_ids) + list(sdr_ids)\n",
    "emps_roles = [get_role_type(emp_id) for emp_id in emps_ids]"
   ]
  },
  {
   "cell_type": "markdown",
   "id": "6d465f75-113f-4891-8426-321a7423530f",
   "metadata": {},
   "source": [
    "- There are employees who have worked as both Sales Representatives (SR) and Sales Development Representatives (SDR).\n"
   ]
  },
  {
   "cell_type": "code",
   "execution_count": 76,
   "id": "06dfc81a-ed1d-4b40-b096-bd00aca6a3f8",
   "metadata": {},
   "outputs": [
    {
     "name": "stdout",
     "output_type": "stream",
     "text": [
      "Number of Employees:  41\n"
     ]
    }
   ],
   "source": [
    "print('Number of Employees: ', len(emps_ids))"
   ]
  },
  {
   "cell_type": "code",
   "execution_count": 77,
   "id": "be6045e4-d8b4-48dc-b2a9-fca01544a30a",
   "metadata": {},
   "outputs": [],
   "source": [
    "def generate_names(n=10000, locale='en_US', seed=42):\n",
    "    fake = Faker(locale)\n",
    "    Faker.seed(seed)\n",
    "    random.seed(seed)\n",
    "\n",
    "    names_set = set()\n",
    "    rows = []\n",
    "    i = 0\n",
    "\n",
    "    # keep generating until we have n unique full names\n",
    "    while len(names_set) < n:\n",
    "        gender = random.choice(['Male', 'Female'])\n",
    "\n",
    "        if gender == 'Male':\n",
    "            first = fake.first_name_male()\n",
    "        else:\n",
    "            first = fake.first_name_female()\n",
    "        \n",
    "        last = fake.last_name()\n",
    "        full = f\"{first} {last}\"\n",
    "\n",
    "        # ensure uniqueness\n",
    "        if full in names_set:\n",
    "            continue\n",
    "\n",
    "        names_set.add(full)\n",
    "        i += 1\n",
    "\n",
    "        rows.append({\n",
    "            'first_name': first,\n",
    "            'last_name': last,\n",
    "            'full_name': full,\n",
    "            'gender': gender\n",
    "        })\n",
    "\n",
    "        # Optional: periodically print progress for very large n\n",
    "        # if i % 10000 == 0:\n",
    "        #     print(f\"{i} unique names generated...\")\n",
    "\n",
    "    df = pd.DataFrame(rows)\n",
    "    return df"
   ]
  },
  {
   "cell_type": "code",
   "execution_count": 78,
   "id": "fcfcb3c6-3550-476d-98f1-cac6196a45e2",
   "metadata": {},
   "outputs": [
    {
     "name": "stdout",
     "output_type": "stream",
     "text": [
      "0\n"
     ]
    }
   ],
   "source": [
    "df_emps = generate_names(41, locale='en_US', seed=123)\n",
    "df_emps['employee_id'] = emps_ids\n",
    "df_emps['role'] = emps_roles\n",
    "print(df_emps.full_name.duplicated().sum())"
   ]
  },
  {
   "cell_type": "code",
   "execution_count": 79,
   "id": "d4739b1a-151e-435f-910b-84f296b57242",
   "metadata": {},
   "outputs": [
    {
     "data": {
      "text/html": [
       "<div>\n",
       "<style scoped>\n",
       "    .dataframe tbody tr th:only-of-type {\n",
       "        vertical-align: middle;\n",
       "    }\n",
       "\n",
       "    .dataframe tbody tr th {\n",
       "        vertical-align: top;\n",
       "    }\n",
       "\n",
       "    .dataframe thead th {\n",
       "        text-align: right;\n",
       "    }\n",
       "</style>\n",
       "<table border=\"1\" class=\"dataframe\">\n",
       "  <thead>\n",
       "    <tr style=\"text-align: right;\">\n",
       "      <th></th>\n",
       "      <th>first_name</th>\n",
       "      <th>last_name</th>\n",
       "      <th>gender</th>\n",
       "      <th>employee_id</th>\n",
       "      <th>role</th>\n",
       "    </tr>\n",
       "  </thead>\n",
       "  <tbody>\n",
       "    <tr>\n",
       "      <th>0</th>\n",
       "      <td>Anthony</td>\n",
       "      <td>Miller</td>\n",
       "      <td>Male</td>\n",
       "      <td>56bf83c4bb35763a51c2baab501b4c67</td>\n",
       "      <td>Both</td>\n",
       "    </tr>\n",
       "    <tr>\n",
       "      <th>1</th>\n",
       "      <td>Jennifer</td>\n",
       "      <td>Rodriguez</td>\n",
       "      <td>Female</td>\n",
       "      <td>068066e24f0c643eb1d089c7dd20cd73</td>\n",
       "      <td>Both</td>\n",
       "    </tr>\n",
       "    <tr>\n",
       "      <th>2</th>\n",
       "      <td>Steven</td>\n",
       "      <td>Johnson</td>\n",
       "      <td>Male</td>\n",
       "      <td>6aa3b86a83d784b05f0e37e26b20860d</td>\n",
       "      <td>Both</td>\n",
       "    </tr>\n",
       "    <tr>\n",
       "      <th>3</th>\n",
       "      <td>Kimberly</td>\n",
       "      <td>Cook</td>\n",
       "      <td>Female</td>\n",
       "      <td>34d40cdaf94010a1d05b0d6212f9e909</td>\n",
       "      <td>Both</td>\n",
       "    </tr>\n",
       "    <tr>\n",
       "      <th>4</th>\n",
       "      <td>Sarah</td>\n",
       "      <td>Moore</td>\n",
       "      <td>Female</td>\n",
       "      <td>9d12ef1a7eca3ec58c545c678af7869c</td>\n",
       "      <td>Both</td>\n",
       "    </tr>\n",
       "  </tbody>\n",
       "</table>\n",
       "</div>"
      ],
      "text/plain": [
       "  first_name  last_name  gender                       employee_id  role\n",
       "0    Anthony     Miller    Male  56bf83c4bb35763a51c2baab501b4c67  Both\n",
       "1   Jennifer  Rodriguez  Female  068066e24f0c643eb1d089c7dd20cd73  Both\n",
       "2     Steven    Johnson    Male  6aa3b86a83d784b05f0e37e26b20860d  Both\n",
       "3   Kimberly       Cook  Female  34d40cdaf94010a1d05b0d6212f9e909  Both\n",
       "4      Sarah      Moore  Female  9d12ef1a7eca3ec58c545c678af7869c  Both"
      ]
     },
     "execution_count": 79,
     "metadata": {},
     "output_type": "execute_result"
    }
   ],
   "source": [
    "df_emps.drop('full_name', axis=1, inplace=True)\n",
    "df_emps.head()"
   ]
  },
  {
   "cell_type": "code",
   "execution_count": 80,
   "id": "e34da98f-9bf4-406d-972f-97e27625b437",
   "metadata": {},
   "outputs": [
    {
     "data": {
      "text/html": [
       "<div>\n",
       "<style scoped>\n",
       "    .dataframe tbody tr th:only-of-type {\n",
       "        vertical-align: middle;\n",
       "    }\n",
       "\n",
       "    .dataframe tbody tr th {\n",
       "        vertical-align: top;\n",
       "    }\n",
       "\n",
       "    .dataframe thead th {\n",
       "        text-align: right;\n",
       "    }\n",
       "</style>\n",
       "<table border=\"1\" class=\"dataframe\">\n",
       "  <thead>\n",
       "    <tr style=\"text-align: right;\">\n",
       "      <th></th>\n",
       "      <th>first_name</th>\n",
       "      <th>last_name</th>\n",
       "      <th>gender</th>\n",
       "      <th>employee_id</th>\n",
       "      <th>role</th>\n",
       "      <th>facebook_user_id</th>\n",
       "    </tr>\n",
       "  </thead>\n",
       "  <tbody>\n",
       "    <tr>\n",
       "      <th>0</th>\n",
       "      <td>Nour</td>\n",
       "      <td>Ghanaym</td>\n",
       "      <td>Male</td>\n",
       "      <td>56bf83c4bb35763a51c2baab501b4c67</td>\n",
       "      <td>Both</td>\n",
       "      <td>NourGhanaym</td>\n",
       "    </tr>\n",
       "    <tr>\n",
       "      <th>1</th>\n",
       "      <td>Sondos</td>\n",
       "      <td>Mohamed</td>\n",
       "      <td>Female</td>\n",
       "      <td>068066e24f0c643eb1d089c7dd20cd73</td>\n",
       "      <td>Both</td>\n",
       "      <td>toota.mohamed.3998</td>\n",
       "    </tr>\n",
       "    <tr>\n",
       "      <th>2</th>\n",
       "      <td>Adblwahed</td>\n",
       "      <td>Nasr</td>\n",
       "      <td>Male</td>\n",
       "      <td>6aa3b86a83d784b05f0e37e26b20860d</td>\n",
       "      <td>Both</td>\n",
       "      <td>abdelwahed.demo.5</td>\n",
       "    </tr>\n",
       "    <tr>\n",
       "      <th>3</th>\n",
       "      <td>Basma</td>\n",
       "      <td>Hesham</td>\n",
       "      <td>Female</td>\n",
       "      <td>34d40cdaf94010a1d05b0d6212f9e909</td>\n",
       "      <td>Both</td>\n",
       "      <td>basma.hesham.14661</td>\n",
       "    </tr>\n",
       "    <tr>\n",
       "      <th>4</th>\n",
       "      <td>Reaal</td>\n",
       "      <td>Salah</td>\n",
       "      <td>Female</td>\n",
       "      <td>9d12ef1a7eca3ec58c545c678af7869c</td>\n",
       "      <td>Both</td>\n",
       "      <td>reaalsalah</td>\n",
       "    </tr>\n",
       "  </tbody>\n",
       "</table>\n",
       "</div>"
      ],
      "text/plain": [
       "  first_name last_name  gender                       employee_id  role  \\\n",
       "0       Nour   Ghanaym    Male  56bf83c4bb35763a51c2baab501b4c67  Both   \n",
       "1     Sondos   Mohamed  Female  068066e24f0c643eb1d089c7dd20cd73  Both   \n",
       "2  Adblwahed      Nasr    Male  6aa3b86a83d784b05f0e37e26b20860d  Both   \n",
       "3      Basma    Hesham  Female  34d40cdaf94010a1d05b0d6212f9e909  Both   \n",
       "4      Reaal     Salah  Female  9d12ef1a7eca3ec58c545c678af7869c  Both   \n",
       "\n",
       "     facebook_user_id  \n",
       "0         NourGhanaym  \n",
       "1  toota.mohamed.3998  \n",
       "2   abdelwahed.demo.5  \n",
       "3  basma.hesham.14661  \n",
       "4          reaalsalah  "
      ]
     },
     "execution_count": 80,
     "metadata": {},
     "output_type": "execute_result"
    }
   ],
   "source": [
    "facebook_urls = ['NourGhanaym',\n",
    "                'toota.mohamed.3998', \n",
    "                 'abdelwahed.demo.5', \n",
    "                'basma.hesham.14661',\n",
    "                 'reaalsalah']\n",
    "user_names = [\"Nour Ghanaym\", \"Sondos Mohamed\", \"Adblwahed Nasr\", \"Basma Hesham\", \"Reaal Salah\"]\n",
    "\n",
    "df_emps['facebook_user_id'] = facebook_urls + [np.nan] * (df_emps.shape[0] - 5)\n",
    "\n",
    "df_emps.first_name = [name.split()[0] for name in user_names] + list(df_emps.first_name)[5:]\n",
    "df_emps.last_name = [name.split()[1] for name in user_names] + list(df_emps.last_name)[5:]\n",
    "df_emps.head()"
   ]
  },
  {
   "cell_type": "code",
   "execution_count": 81,
   "id": "fa3a6ad9-ce7d-43a9-9ca2-6527ab182bf4",
   "metadata": {},
   "outputs": [
    {
     "name": "stdout",
     "output_type": "stream",
     "text": [
      "<class 'pandas.core.frame.DataFrame'>\n",
      "RangeIndex: 41 entries, 0 to 40\n",
      "Data columns (total 6 columns):\n",
      " #   Column            Non-Null Count  Dtype \n",
      "---  ------            --------------  ----- \n",
      " 0   first_name        41 non-null     object\n",
      " 1   last_name         41 non-null     object\n",
      " 2   gender            41 non-null     object\n",
      " 3   employee_id       41 non-null     object\n",
      " 4   role              41 non-null     object\n",
      " 5   facebook_user_id  5 non-null      object\n",
      "dtypes: object(6)\n",
      "memory usage: 2.1+ KB\n"
     ]
    }
   ],
   "source": [
    "df_emps.info()"
   ]
  },
  {
   "cell_type": "markdown",
   "id": "299b9f73-5492-469e-9302-7ccd49607be4",
   "metadata": {},
   "source": [
    "### Generate Seller Name and Gender"
   ]
  },
  {
   "cell_type": "code",
   "execution_count": 82,
   "id": "bed1810b-937b-40cb-871a-4ff034a0d9fb",
   "metadata": {},
   "outputs": [],
   "source": [
    "df_seller_generated = generate_names(datasets['sellers'].shape[0], locale='en_US', seed=123)"
   ]
  },
  {
   "cell_type": "code",
   "execution_count": 83,
   "id": "da3c1ad4-49dd-4a55-b704-cce11ab3538f",
   "metadata": {},
   "outputs": [
    {
     "data": {
      "text/plain": [
       "(3095, 4)"
      ]
     },
     "execution_count": 83,
     "metadata": {},
     "output_type": "execute_result"
    }
   ],
   "source": [
    "df_seller_generated.shape"
   ]
  },
  {
   "cell_type": "code",
   "execution_count": 84,
   "id": "b1927491-094d-425d-aee6-184adafbca52",
   "metadata": {},
   "outputs": [
    {
     "data": {
      "text/plain": [
       "0"
      ]
     },
     "execution_count": 84,
     "metadata": {},
     "output_type": "execute_result"
    }
   ],
   "source": [
    "df_seller_generated.full_name.duplicated().sum()"
   ]
  },
  {
   "cell_type": "code",
   "execution_count": 85,
   "id": "f403301b-edb6-4c37-af38-bfeea872211e",
   "metadata": {},
   "outputs": [
    {
     "data": {
      "text/html": [
       "<div>\n",
       "<style scoped>\n",
       "    .dataframe tbody tr th:only-of-type {\n",
       "        vertical-align: middle;\n",
       "    }\n",
       "\n",
       "    .dataframe tbody tr th {\n",
       "        vertical-align: top;\n",
       "    }\n",
       "\n",
       "    .dataframe thead th {\n",
       "        text-align: right;\n",
       "    }\n",
       "</style>\n",
       "<table border=\"1\" class=\"dataframe\">\n",
       "  <thead>\n",
       "    <tr style=\"text-align: right;\">\n",
       "      <th></th>\n",
       "      <th>seller_id</th>\n",
       "      <th>geo_id</th>\n",
       "      <th>first_name</th>\n",
       "      <th>last_name</th>\n",
       "      <th>gender</th>\n",
       "    </tr>\n",
       "  </thead>\n",
       "  <tbody>\n",
       "    <tr>\n",
       "      <th>0</th>\n",
       "      <td>3442f8959a84dea7ee197c632cb2df15</td>\n",
       "      <td>8494</td>\n",
       "      <td>Anthony</td>\n",
       "      <td>Miller</td>\n",
       "      <td>Male</td>\n",
       "    </tr>\n",
       "    <tr>\n",
       "      <th>1</th>\n",
       "      <td>d1b65fc7debc3361ea86b5f14c68d2e2</td>\n",
       "      <td>9021</td>\n",
       "      <td>Jennifer</td>\n",
       "      <td>Rodriguez</td>\n",
       "      <td>Female</td>\n",
       "    </tr>\n",
       "    <tr>\n",
       "      <th>2</th>\n",
       "      <td>ce3ad9de960102d0677a81f5d0bb7b2d</td>\n",
       "      <td>10681</td>\n",
       "      <td>Steven</td>\n",
       "      <td>Johnson</td>\n",
       "      <td>Male</td>\n",
       "    </tr>\n",
       "    <tr>\n",
       "      <th>3</th>\n",
       "      <td>c0f3eea2e14555b6faeea3dd58c1b1c3</td>\n",
       "      <td>3419</td>\n",
       "      <td>Kimberly</td>\n",
       "      <td>Cook</td>\n",
       "      <td>Female</td>\n",
       "    </tr>\n",
       "    <tr>\n",
       "      <th>4</th>\n",
       "      <td>51a04a8a6bdcb23deccc82b0b80742cf</td>\n",
       "      <td>8456</td>\n",
       "      <td>Sarah</td>\n",
       "      <td>Moore</td>\n",
       "      <td>Female</td>\n",
       "    </tr>\n",
       "  </tbody>\n",
       "</table>\n",
       "</div>"
      ],
      "text/plain": [
       "                          seller_id  geo_id first_name  last_name  gender\n",
       "0  3442f8959a84dea7ee197c632cb2df15    8494    Anthony     Miller    Male\n",
       "1  d1b65fc7debc3361ea86b5f14c68d2e2    9021   Jennifer  Rodriguez  Female\n",
       "2  ce3ad9de960102d0677a81f5d0bb7b2d   10681     Steven    Johnson    Male\n",
       "3  c0f3eea2e14555b6faeea3dd58c1b1c3    3419   Kimberly       Cook  Female\n",
       "4  51a04a8a6bdcb23deccc82b0b80742cf    8456      Sarah      Moore  Female"
      ]
     },
     "execution_count": 85,
     "metadata": {},
     "output_type": "execute_result"
    }
   ],
   "source": [
    "datasets['sellers']['first_name'] = df_seller_generated['first_name']\n",
    "datasets['sellers']['last_name'] = df_seller_generated['last_name']\n",
    "datasets['sellers']['gender'] = df_seller_generated['gender']\n",
    "\n",
    "datasets['sellers'].head()"
   ]
  },
  {
   "cell_type": "markdown",
   "id": "7f88b6f2-3b99-498b-81db-0ef1ba95846a",
   "metadata": {},
   "source": [
    "### Generate Customer Name and Gender"
   ]
  },
  {
   "cell_type": "code",
   "execution_count": 86,
   "id": "6a6fe178-5372-4f2b-ae54-c1fdeff732b1",
   "metadata": {},
   "outputs": [
    {
     "name": "stdout",
     "output_type": "stream",
     "text": [
      "<class 'pandas.core.frame.DataFrame'>\n",
      "RangeIndex: 96096 entries, 0 to 96095\n",
      "Data columns (total 4 columns):\n",
      " #   Column      Non-Null Count  Dtype \n",
      "---  ------      --------------  ----- \n",
      " 0   first_name  96096 non-null  object\n",
      " 1   last_name   96096 non-null  object\n",
      " 2   full_name   96096 non-null  object\n",
      " 3   gender      96096 non-null  object\n",
      "dtypes: object(4)\n",
      "memory usage: 2.9+ MB\n"
     ]
    }
   ],
   "source": [
    "df_customer_generated = generate_names(datasets['customers'].shape[0], locale='en_US', seed=123)\n",
    "df_customer_generated.info()"
   ]
  },
  {
   "cell_type": "code",
   "execution_count": 87,
   "id": "b25145b7-cbfe-40d9-846e-791de576539e",
   "metadata": {},
   "outputs": [
    {
     "data": {
      "text/plain": [
       "96096"
      ]
     },
     "execution_count": 87,
     "metadata": {},
     "output_type": "execute_result"
    }
   ],
   "source": [
    "datasets['customers'].shape[0]"
   ]
  },
  {
   "cell_type": "code",
   "execution_count": 88,
   "id": "8954526d-8bd4-4802-9639-5413622608bb",
   "metadata": {},
   "outputs": [
    {
     "data": {
      "text/plain": [
       "0"
      ]
     },
     "execution_count": 88,
     "metadata": {},
     "output_type": "execute_result"
    }
   ],
   "source": [
    "df_customer_generated.full_name.duplicated().sum()"
   ]
  },
  {
   "cell_type": "code",
   "execution_count": 89,
   "id": "48c4ae50-43b3-4a00-b446-f4f6c86a143c",
   "metadata": {},
   "outputs": [],
   "source": [
    "datasets['customers'].reset_index(inplace=True)"
   ]
  },
  {
   "cell_type": "code",
   "execution_count": 90,
   "id": "8cfae083-e9fd-40d6-857c-ce2277e37000",
   "metadata": {},
   "outputs": [
    {
     "name": "stdout",
     "output_type": "stream",
     "text": [
      "<class 'pandas.core.frame.DataFrame'>\n",
      "RangeIndex: 96096 entries, 0 to 96095\n",
      "Data columns (total 6 columns):\n",
      " #   Column              Non-Null Count  Dtype \n",
      "---  ------              --------------  ----- \n",
      " 0   index               96096 non-null  int64 \n",
      " 1   customer_unique_id  96096 non-null  object\n",
      " 2   geo_id              96096 non-null  int64 \n",
      " 3   first_name          96096 non-null  object\n",
      " 4   last_name           96096 non-null  object\n",
      " 5   gender              96096 non-null  object\n",
      "dtypes: int64(2), object(4)\n",
      "memory usage: 4.4+ MB\n"
     ]
    }
   ],
   "source": [
    "datasets['customers']['first_name'] = df_customer_generated['first_name']\n",
    "datasets['customers']['last_name'] = df_customer_generated['last_name']\n",
    "datasets['customers']['gender'] = df_customer_generated['gender']\n",
    "\n",
    "datasets['customers'].info()"
   ]
  },
  {
   "cell_type": "markdown",
   "id": "041286bd-2094-49f8-9201-1cc861bda24b",
   "metadata": {},
   "source": [
    "#### Add Generated Customers Age"
   ]
  },
  {
   "cell_type": "code",
   "execution_count": 91,
   "id": "0a26d741-8e72-48aa-a8ad-dcf65bcb57bb",
   "metadata": {},
   "outputs": [
    {
     "name": "stdout",
     "output_type": "stream",
     "text": [
      "<class 'pandas.core.frame.DataFrame'>\n",
      "RangeIndex: 96096 entries, 0 to 96095\n",
      "Data columns (total 2 columns):\n",
      " #   Column              Non-Null Count  Dtype \n",
      "---  ------              --------------  ----- \n",
      " 0   customer_unique_id  96096 non-null  object\n",
      " 1   Age                 96096 non-null  int64 \n",
      "dtypes: int64(1), object(1)\n",
      "memory usage: 1.5+ MB\n"
     ]
    }
   ],
   "source": [
    "customers_with_age = pd.read_excel('Datasets_Modified/customers_with_age.xlsx')\n",
    "customers_with_age.info()"
   ]
  },
  {
   "cell_type": "code",
   "execution_count": 92,
   "id": "f63e55b2-c2c3-4a1a-9cef-a63484f3641b",
   "metadata": {},
   "outputs": [
    {
     "data": {
      "text/plain": [
       "<Axes: >"
      ]
     },
     "execution_count": 92,
     "metadata": {},
     "output_type": "execute_result"
    },
    {
     "data": {
      "image/png": "[encoded data removed]",
      "text/plain": [
       "<Figure size 640x480 with 1 Axes>"
      ]
     },
     "metadata": {},
     "output_type": "display_data"
    }
   ],
   "source": [
    "customers_with_age.Age.hist()"
   ]
  },
  {
   "cell_type": "code",
   "execution_count": 93,
   "id": "321cc7d7-e6b6-4e42-b047-40c653a50c84",
   "metadata": {},
   "outputs": [],
   "source": [
    "datasets['customers'] = datasets['customers'].merge(customers_with_age, on='customer_unique_id', how='left')"
   ]
  },
  {
   "cell_type": "markdown",
   "id": "69048cd0-b817-4182-b52e-8fd1989d0171",
   "metadata": {},
   "source": [
    "#### Add Generated Products Names"
   ]
  },
  {
   "cell_type": "code",
   "execution_count": 94,
   "id": "85501754-b8cb-4df4-87b8-f7a32983d73d",
   "metadata": {},
   "outputs": [
    {
     "name": "stdout",
     "output_type": "stream",
     "text": [
      "<class 'pandas.core.frame.DataFrame'>\n",
      "RangeIndex: 32951 entries, 0 to 32950\n",
      "Data columns (total 3 columns):\n",
      " #   Column         Non-Null Count  Dtype \n",
      "---  ------         --------------  ----- \n",
      " 0   Brand          32951 non-null  object\n",
      " 1   Category Name  32951 non-null  object\n",
      " 2   Product Name   32951 non-null  object\n",
      "dtypes: object(3)\n",
      "memory usage: 772.4+ KB\n"
     ]
    }
   ],
   "source": [
    "products_with_names = pd.read_excel('Datasets_Modified/products_with_name.xlsx')\n",
    "products_with_names.info()"
   ]
  },
  {
   "cell_type": "code",
   "execution_count": 95,
   "id": "8b5d641d-3b35-4502-8d14-bb1885b6aa66",
   "metadata": {},
   "outputs": [
    {
     "data": {
      "text/plain": [
       "32951"
      ]
     },
     "execution_count": 95,
     "metadata": {},
     "output_type": "execute_result"
    }
   ],
   "source": [
    "datasets['products'].product_id.nunique()"
   ]
  },
  {
   "cell_type": "code",
   "execution_count": 96,
   "id": "231d0323-a5ef-42c5-88ec-f37ab86718b8",
   "metadata": {},
   "outputs": [
    {
     "data": {
      "text/plain": [
       "(623, 3)"
      ]
     },
     "execution_count": 96,
     "metadata": {},
     "output_type": "execute_result"
    }
   ],
   "source": [
    "products_with_names[products_with_names['Category Name'] == 'other'].shape"
   ]
  },
  {
   "cell_type": "code",
   "execution_count": 97,
   "id": "87bf32b3-56b4-4f6b-adaf-1641f2c90fde",
   "metadata": {},
   "outputs": [
    {
     "data": {
      "text/plain": [
       "623"
      ]
     },
     "execution_count": 97,
     "metadata": {},
     "output_type": "execute_result"
    }
   ],
   "source": [
    "datasets['products'].product_category_name.isnull().sum()"
   ]
  },
  {
   "cell_type": "code",
   "execution_count": 98,
   "id": "b897f0ba-fb28-4fb2-9929-9d9262ae234c",
   "metadata": {},
   "outputs": [
    {
     "data": {
      "text/plain": [
       "623"
      ]
     },
     "execution_count": 98,
     "metadata": {},
     "output_type": "execute_result"
    }
   ],
   "source": [
    "datasets['products'].product_category_name.fillna('other', inplace=True)\n",
    "\n",
    "(datasets['products'].product_category_name == 'other').sum()"
   ]
  },
  {
   "cell_type": "code",
   "execution_count": 99,
   "id": "b21f9557-31f2-4b74-a934-bcc0e779abc2",
   "metadata": {},
   "outputs": [],
   "source": [
    "df_prd_group = products_with_names.groupby('Category Name', as_index=False)['Product Name'].nunique().sort_values(by='Category Name')\n",
    "\n",
    "n_products_per_cat = datasets['products'].groupby('product_category_name', as_index=False)['product_id'].nunique().sort_values(by='product_category_name')"
   ]
  },
  {
   "cell_type": "code",
   "execution_count": 100,
   "id": "de0fabaf-0db3-44d2-ab5d-d1d94f78b31f",
   "metadata": {},
   "outputs": [
    {
     "name": "stdout",
     "output_type": "stream",
     "text": [
      "<class 'pandas.core.frame.DataFrame'>\n",
      "RangeIndex: 72 entries, 0 to 71\n",
      "Data columns (total 4 columns):\n",
      " #   Column                 Non-Null Count  Dtype \n",
      "---  ------                 --------------  ----- \n",
      " 0   Category Name          72 non-null     object\n",
      " 1   Product Name           72 non-null     int64 \n",
      " 2   product_category_name  72 non-null     object\n",
      " 3   product_id             72 non-null     int64 \n",
      "dtypes: int64(2), object(2)\n",
      "memory usage: 2.4+ KB\n"
     ]
    }
   ],
   "source": [
    "prd_cat_gen = df_prd_group.merge(n_products_per_cat, left_on='Category Name', right_on='product_category_name', suffixes=('gen', 'real'),\n",
    "         how='inner')\n",
    "prd_cat_gen.info()"
   ]
  },
  {
   "cell_type": "code",
   "execution_count": 101,
   "id": "fa3b7f7a-8cbb-45bf-8a00-1c56bac676a0",
   "metadata": {},
   "outputs": [
    {
     "data": {
      "text/html": [
       "<div>\n",
       "<style scoped>\n",
       "    .dataframe tbody tr th:only-of-type {\n",
       "        vertical-align: middle;\n",
       "    }\n",
       "\n",
       "    .dataframe tbody tr th {\n",
       "        vertical-align: top;\n",
       "    }\n",
       "\n",
       "    .dataframe thead th {\n",
       "        text-align: right;\n",
       "    }\n",
       "</style>\n",
       "<table border=\"1\" class=\"dataframe\">\n",
       "  <thead>\n",
       "    <tr style=\"text-align: right;\">\n",
       "      <th></th>\n",
       "      <th>Category Name</th>\n",
       "      <th>Product Name</th>\n",
       "      <th>product_category_name</th>\n",
       "      <th>product_id</th>\n",
       "    </tr>\n",
       "  </thead>\n",
       "  <tbody>\n",
       "    <tr>\n",
       "      <th>0</th>\n",
       "      <td>agro_industry_and_commerce</td>\n",
       "      <td>74</td>\n",
       "      <td>agro_industry_and_commerce</td>\n",
       "      <td>74</td>\n",
       "    </tr>\n",
       "    <tr>\n",
       "      <th>1</th>\n",
       "      <td>air_conditioning</td>\n",
       "      <td>124</td>\n",
       "      <td>air_conditioning</td>\n",
       "      <td>124</td>\n",
       "    </tr>\n",
       "    <tr>\n",
       "      <th>2</th>\n",
       "      <td>art</td>\n",
       "      <td>55</td>\n",
       "      <td>art</td>\n",
       "      <td>55</td>\n",
       "    </tr>\n",
       "    <tr>\n",
       "      <th>3</th>\n",
       "      <td>arts_and_craftmanship</td>\n",
       "      <td>19</td>\n",
       "      <td>arts_and_craftmanship</td>\n",
       "      <td>19</td>\n",
       "    </tr>\n",
       "    <tr>\n",
       "      <th>4</th>\n",
       "      <td>audio</td>\n",
       "      <td>58</td>\n",
       "      <td>audio</td>\n",
       "      <td>58</td>\n",
       "    </tr>\n",
       "    <tr>\n",
       "      <th>5</th>\n",
       "      <td>auto</td>\n",
       "      <td>1900</td>\n",
       "      <td>auto</td>\n",
       "      <td>1900</td>\n",
       "    </tr>\n",
       "    <tr>\n",
       "      <th>6</th>\n",
       "      <td>baby</td>\n",
       "      <td>919</td>\n",
       "      <td>baby</td>\n",
       "      <td>919</td>\n",
       "    </tr>\n",
       "    <tr>\n",
       "      <th>7</th>\n",
       "      <td>bed_bath_table</td>\n",
       "      <td>3029</td>\n",
       "      <td>bed_bath_table</td>\n",
       "      <td>3029</td>\n",
       "    </tr>\n",
       "    <tr>\n",
       "      <th>8</th>\n",
       "      <td>books_general_interest</td>\n",
       "      <td>216</td>\n",
       "      <td>books_general_interest</td>\n",
       "      <td>216</td>\n",
       "    </tr>\n",
       "    <tr>\n",
       "      <th>9</th>\n",
       "      <td>books_imported</td>\n",
       "      <td>31</td>\n",
       "      <td>books_imported</td>\n",
       "      <td>31</td>\n",
       "    </tr>\n",
       "    <tr>\n",
       "      <th>10</th>\n",
       "      <td>books_technical</td>\n",
       "      <td>123</td>\n",
       "      <td>books_technical</td>\n",
       "      <td>123</td>\n",
       "    </tr>\n",
       "    <tr>\n",
       "      <th>11</th>\n",
       "      <td>cds_dvds_musicals</td>\n",
       "      <td>1</td>\n",
       "      <td>cds_dvds_musicals</td>\n",
       "      <td>1</td>\n",
       "    </tr>\n",
       "    <tr>\n",
       "      <th>12</th>\n",
       "      <td>christmas_supplies</td>\n",
       "      <td>65</td>\n",
       "      <td>christmas_supplies</td>\n",
       "      <td>65</td>\n",
       "    </tr>\n",
       "    <tr>\n",
       "      <th>13</th>\n",
       "      <td>cine_photo</td>\n",
       "      <td>28</td>\n",
       "      <td>cine_photo</td>\n",
       "      <td>28</td>\n",
       "    </tr>\n",
       "    <tr>\n",
       "      <th>14</th>\n",
       "      <td>computers</td>\n",
       "      <td>30</td>\n",
       "      <td>computers</td>\n",
       "      <td>30</td>\n",
       "    </tr>\n",
       "    <tr>\n",
       "      <th>15</th>\n",
       "      <td>computers_accessories</td>\n",
       "      <td>1639</td>\n",
       "      <td>computers_accessories</td>\n",
       "      <td>1639</td>\n",
       "    </tr>\n",
       "    <tr>\n",
       "      <th>16</th>\n",
       "      <td>consoles_games</td>\n",
       "      <td>317</td>\n",
       "      <td>consoles_games</td>\n",
       "      <td>317</td>\n",
       "    </tr>\n",
       "    <tr>\n",
       "      <th>17</th>\n",
       "      <td>construction_tools_construction</td>\n",
       "      <td>400</td>\n",
       "      <td>construction_tools_construction</td>\n",
       "      <td>400</td>\n",
       "    </tr>\n",
       "    <tr>\n",
       "      <th>18</th>\n",
       "      <td>construction_tools_lights</td>\n",
       "      <td>78</td>\n",
       "      <td>construction_tools_lights</td>\n",
       "      <td>78</td>\n",
       "    </tr>\n",
       "    <tr>\n",
       "      <th>19</th>\n",
       "      <td>construction_tools_safety</td>\n",
       "      <td>91</td>\n",
       "      <td>construction_tools_safety</td>\n",
       "      <td>91</td>\n",
       "    </tr>\n",
       "    <tr>\n",
       "      <th>20</th>\n",
       "      <td>cool_stuff</td>\n",
       "      <td>789</td>\n",
       "      <td>cool_stuff</td>\n",
       "      <td>789</td>\n",
       "    </tr>\n",
       "    <tr>\n",
       "      <th>21</th>\n",
       "      <td>costruction_tools_garden</td>\n",
       "      <td>88</td>\n",
       "      <td>costruction_tools_garden</td>\n",
       "      <td>88</td>\n",
       "    </tr>\n",
       "    <tr>\n",
       "      <th>22</th>\n",
       "      <td>costruction_tools_tools</td>\n",
       "      <td>39</td>\n",
       "      <td>costruction_tools_tools</td>\n",
       "      <td>39</td>\n",
       "    </tr>\n",
       "    <tr>\n",
       "      <th>23</th>\n",
       "      <td>diapers_and_hygiene</td>\n",
       "      <td>12</td>\n",
       "      <td>diapers_and_hygiene</td>\n",
       "      <td>12</td>\n",
       "    </tr>\n",
       "    <tr>\n",
       "      <th>24</th>\n",
       "      <td>drinks</td>\n",
       "      <td>81</td>\n",
       "      <td>drinks</td>\n",
       "      <td>81</td>\n",
       "    </tr>\n",
       "    <tr>\n",
       "      <th>25</th>\n",
       "      <td>dvds_blu_ray</td>\n",
       "      <td>48</td>\n",
       "      <td>dvds_blu_ray</td>\n",
       "      <td>48</td>\n",
       "    </tr>\n",
       "    <tr>\n",
       "      <th>26</th>\n",
       "      <td>electronics</td>\n",
       "      <td>517</td>\n",
       "      <td>electronics</td>\n",
       "      <td>517</td>\n",
       "    </tr>\n",
       "    <tr>\n",
       "      <th>27</th>\n",
       "      <td>fashio_female_clothing</td>\n",
       "      <td>27</td>\n",
       "      <td>fashio_female_clothing</td>\n",
       "      <td>27</td>\n",
       "    </tr>\n",
       "    <tr>\n",
       "      <th>28</th>\n",
       "      <td>fashion_bags_accessories</td>\n",
       "      <td>849</td>\n",
       "      <td>fashion_bags_accessories</td>\n",
       "      <td>849</td>\n",
       "    </tr>\n",
       "    <tr>\n",
       "      <th>29</th>\n",
       "      <td>fashion_childrens_clothes</td>\n",
       "      <td>5</td>\n",
       "      <td>fashion_childrens_clothes</td>\n",
       "      <td>5</td>\n",
       "    </tr>\n",
       "    <tr>\n",
       "      <th>30</th>\n",
       "      <td>fashion_male_clothing</td>\n",
       "      <td>95</td>\n",
       "      <td>fashion_male_clothing</td>\n",
       "      <td>95</td>\n",
       "    </tr>\n",
       "    <tr>\n",
       "      <th>31</th>\n",
       "      <td>fashion_shoes</td>\n",
       "      <td>173</td>\n",
       "      <td>fashion_shoes</td>\n",
       "      <td>173</td>\n",
       "    </tr>\n",
       "    <tr>\n",
       "      <th>32</th>\n",
       "      <td>fashion_sport</td>\n",
       "      <td>19</td>\n",
       "      <td>fashion_sport</td>\n",
       "      <td>19</td>\n",
       "    </tr>\n",
       "    <tr>\n",
       "      <th>33</th>\n",
       "      <td>fashion_underwear_beach</td>\n",
       "      <td>53</td>\n",
       "      <td>fashion_underwear_beach</td>\n",
       "      <td>53</td>\n",
       "    </tr>\n",
       "    <tr>\n",
       "      <th>34</th>\n",
       "      <td>fixed_telephony</td>\n",
       "      <td>116</td>\n",
       "      <td>fixed_telephony</td>\n",
       "      <td>116</td>\n",
       "    </tr>\n",
       "    <tr>\n",
       "      <th>35</th>\n",
       "      <td>flowers</td>\n",
       "      <td>14</td>\n",
       "      <td>flowers</td>\n",
       "      <td>14</td>\n",
       "    </tr>\n",
       "    <tr>\n",
       "      <th>36</th>\n",
       "      <td>food</td>\n",
       "      <td>82</td>\n",
       "      <td>food</td>\n",
       "      <td>82</td>\n",
       "    </tr>\n",
       "    <tr>\n",
       "      <th>37</th>\n",
       "      <td>food_drink</td>\n",
       "      <td>104</td>\n",
       "      <td>food_drink</td>\n",
       "      <td>104</td>\n",
       "    </tr>\n",
       "    <tr>\n",
       "      <th>38</th>\n",
       "      <td>furniture_bedroom</td>\n",
       "      <td>45</td>\n",
       "      <td>furniture_bedroom</td>\n",
       "      <td>45</td>\n",
       "    </tr>\n",
       "    <tr>\n",
       "      <th>39</th>\n",
       "      <td>furniture_decor</td>\n",
       "      <td>2657</td>\n",
       "      <td>furniture_decor</td>\n",
       "      <td>2657</td>\n",
       "    </tr>\n",
       "    <tr>\n",
       "      <th>40</th>\n",
       "      <td>furniture_living_room</td>\n",
       "      <td>156</td>\n",
       "      <td>furniture_living_room</td>\n",
       "      <td>156</td>\n",
       "    </tr>\n",
       "    <tr>\n",
       "      <th>41</th>\n",
       "      <td>furniture_mattress_and_upholstery</td>\n",
       "      <td>10</td>\n",
       "      <td>furniture_mattress_and_upholstery</td>\n",
       "      <td>10</td>\n",
       "    </tr>\n",
       "    <tr>\n",
       "      <th>42</th>\n",
       "      <td>garden_tools</td>\n",
       "      <td>753</td>\n",
       "      <td>garden_tools</td>\n",
       "      <td>753</td>\n",
       "    </tr>\n",
       "    <tr>\n",
       "      <th>43</th>\n",
       "      <td>health_beauty</td>\n",
       "      <td>2444</td>\n",
       "      <td>health_beauty</td>\n",
       "      <td>2444</td>\n",
       "    </tr>\n",
       "    <tr>\n",
       "      <th>44</th>\n",
       "      <td>home_appliances</td>\n",
       "      <td>370</td>\n",
       "      <td>home_appliances</td>\n",
       "      <td>370</td>\n",
       "    </tr>\n",
       "    <tr>\n",
       "      <th>45</th>\n",
       "      <td>home_appliances_2</td>\n",
       "      <td>90</td>\n",
       "      <td>home_appliances_2</td>\n",
       "      <td>90</td>\n",
       "    </tr>\n",
       "    <tr>\n",
       "      <th>46</th>\n",
       "      <td>home_comfort_2</td>\n",
       "      <td>5</td>\n",
       "      <td>home_comfort_2</td>\n",
       "      <td>5</td>\n",
       "    </tr>\n",
       "    <tr>\n",
       "      <th>47</th>\n",
       "      <td>home_confort</td>\n",
       "      <td>111</td>\n",
       "      <td>home_confort</td>\n",
       "      <td>111</td>\n",
       "    </tr>\n",
       "    <tr>\n",
       "      <th>48</th>\n",
       "      <td>home_construction</td>\n",
       "      <td>225</td>\n",
       "      <td>home_construction</td>\n",
       "      <td>225</td>\n",
       "    </tr>\n",
       "    <tr>\n",
       "      <th>49</th>\n",
       "      <td>housewares</td>\n",
       "      <td>2335</td>\n",
       "      <td>housewares</td>\n",
       "      <td>2335</td>\n",
       "    </tr>\n",
       "    <tr>\n",
       "      <th>50</th>\n",
       "      <td>industry_commerce_and_business</td>\n",
       "      <td>68</td>\n",
       "      <td>industry_commerce_and_business</td>\n",
       "      <td>68</td>\n",
       "    </tr>\n",
       "    <tr>\n",
       "      <th>51</th>\n",
       "      <td>kitchen_dining_laundry_garden_furniture</td>\n",
       "      <td>94</td>\n",
       "      <td>kitchen_dining_laundry_garden_furniture</td>\n",
       "      <td>94</td>\n",
       "    </tr>\n",
       "    <tr>\n",
       "      <th>52</th>\n",
       "      <td>la_cuisine</td>\n",
       "      <td>10</td>\n",
       "      <td>la_cuisine</td>\n",
       "      <td>10</td>\n",
       "    </tr>\n",
       "    <tr>\n",
       "      <th>53</th>\n",
       "      <td>luggage_accessories</td>\n",
       "      <td>349</td>\n",
       "      <td>luggage_accessories</td>\n",
       "      <td>349</td>\n",
       "    </tr>\n",
       "    <tr>\n",
       "      <th>54</th>\n",
       "      <td>market_place</td>\n",
       "      <td>104</td>\n",
       "      <td>market_place</td>\n",
       "      <td>104</td>\n",
       "    </tr>\n",
       "    <tr>\n",
       "      <th>55</th>\n",
       "      <td>music</td>\n",
       "      <td>27</td>\n",
       "      <td>music</td>\n",
       "      <td>27</td>\n",
       "    </tr>\n",
       "    <tr>\n",
       "      <th>56</th>\n",
       "      <td>musical_instruments</td>\n",
       "      <td>289</td>\n",
       "      <td>musical_instruments</td>\n",
       "      <td>289</td>\n",
       "    </tr>\n",
       "    <tr>\n",
       "      <th>57</th>\n",
       "      <td>office_furniture</td>\n",
       "      <td>309</td>\n",
       "      <td>office_furniture</td>\n",
       "      <td>309</td>\n",
       "    </tr>\n",
       "    <tr>\n",
       "      <th>58</th>\n",
       "      <td>other</td>\n",
       "      <td>623</td>\n",
       "      <td>other</td>\n",
       "      <td>623</td>\n",
       "    </tr>\n",
       "    <tr>\n",
       "      <th>59</th>\n",
       "      <td>party_supplies</td>\n",
       "      <td>26</td>\n",
       "      <td>party_supplies</td>\n",
       "      <td>26</td>\n",
       "    </tr>\n",
       "    <tr>\n",
       "      <th>60</th>\n",
       "      <td>perfumery</td>\n",
       "      <td>868</td>\n",
       "      <td>perfumery</td>\n",
       "      <td>868</td>\n",
       "    </tr>\n",
       "    <tr>\n",
       "      <th>61</th>\n",
       "      <td>pet_shop</td>\n",
       "      <td>719</td>\n",
       "      <td>pet_shop</td>\n",
       "      <td>719</td>\n",
       "    </tr>\n",
       "    <tr>\n",
       "      <th>62</th>\n",
       "      <td>security_and_services</td>\n",
       "      <td>2</td>\n",
       "      <td>security_and_services</td>\n",
       "      <td>2</td>\n",
       "    </tr>\n",
       "    <tr>\n",
       "      <th>63</th>\n",
       "      <td>signaling_and_security</td>\n",
       "      <td>93</td>\n",
       "      <td>signaling_and_security</td>\n",
       "      <td>93</td>\n",
       "    </tr>\n",
       "    <tr>\n",
       "      <th>64</th>\n",
       "      <td>small_appliances</td>\n",
       "      <td>231</td>\n",
       "      <td>small_appliances</td>\n",
       "      <td>231</td>\n",
       "    </tr>\n",
       "    <tr>\n",
       "      <th>65</th>\n",
       "      <td>small_appliances_home_oven_and_coffee</td>\n",
       "      <td>31</td>\n",
       "      <td>small_appliances_home_oven_and_coffee</td>\n",
       "      <td>31</td>\n",
       "    </tr>\n",
       "    <tr>\n",
       "      <th>66</th>\n",
       "      <td>sports_leisure</td>\n",
       "      <td>2867</td>\n",
       "      <td>sports_leisure</td>\n",
       "      <td>2867</td>\n",
       "    </tr>\n",
       "    <tr>\n",
       "      <th>67</th>\n",
       "      <td>stationery</td>\n",
       "      <td>849</td>\n",
       "      <td>stationery</td>\n",
       "      <td>849</td>\n",
       "    </tr>\n",
       "    <tr>\n",
       "      <th>68</th>\n",
       "      <td>tablets_printing_image</td>\n",
       "      <td>9</td>\n",
       "      <td>tablets_printing_image</td>\n",
       "      <td>9</td>\n",
       "    </tr>\n",
       "    <tr>\n",
       "      <th>69</th>\n",
       "      <td>telephony</td>\n",
       "      <td>1134</td>\n",
       "      <td>telephony</td>\n",
       "      <td>1134</td>\n",
       "    </tr>\n",
       "    <tr>\n",
       "      <th>70</th>\n",
       "      <td>toys</td>\n",
       "      <td>1411</td>\n",
       "      <td>toys</td>\n",
       "      <td>1411</td>\n",
       "    </tr>\n",
       "    <tr>\n",
       "      <th>71</th>\n",
       "      <td>watches_gifts</td>\n",
       "      <td>1329</td>\n",
       "      <td>watches_gifts</td>\n",
       "      <td>1329</td>\n",
       "    </tr>\n",
       "  </tbody>\n",
       "</table>\n",
       "</div>"
      ],
      "text/plain": [
       "                              Category Name  Product Name  \\\n",
       "0                agro_industry_and_commerce            74   \n",
       "1                          air_conditioning           124   \n",
       "2                                       art            55   \n",
       "3                     arts_and_craftmanship            19   \n",
       "4                                     audio            58   \n",
       "5                                      auto          1900   \n",
       "6                                      baby           919   \n",
       "7                            bed_bath_table          3029   \n",
       "8                    books_general_interest           216   \n",
       "9                            books_imported            31   \n",
       "10                          books_technical           123   \n",
       "11                        cds_dvds_musicals             1   \n",
       "12                       christmas_supplies            65   \n",
       "13                               cine_photo            28   \n",
       "14                                computers            30   \n",
       "15                    computers_accessories          1639   \n",
       "16                           consoles_games           317   \n",
       "17          construction_tools_construction           400   \n",
       "18                construction_tools_lights            78   \n",
       "19                construction_tools_safety            91   \n",
       "20                               cool_stuff           789   \n",
       "21                 costruction_tools_garden            88   \n",
       "22                  costruction_tools_tools            39   \n",
       "23                      diapers_and_hygiene            12   \n",
       "24                                   drinks            81   \n",
       "25                             dvds_blu_ray            48   \n",
       "26                              electronics           517   \n",
       "27                   fashio_female_clothing            27   \n",
       "28                 fashion_bags_accessories           849   \n",
       "29                fashion_childrens_clothes             5   \n",
       "30                    fashion_male_clothing            95   \n",
       "31                            fashion_shoes           173   \n",
       "32                            fashion_sport            19   \n",
       "33                  fashion_underwear_beach            53   \n",
       "34                          fixed_telephony           116   \n",
       "35                                  flowers            14   \n",
       "36                                     food            82   \n",
       "37                               food_drink           104   \n",
       "38                        furniture_bedroom            45   \n",
       "39                          furniture_decor          2657   \n",
       "40                    furniture_living_room           156   \n",
       "41        furniture_mattress_and_upholstery            10   \n",
       "42                             garden_tools           753   \n",
       "43                            health_beauty          2444   \n",
       "44                          home_appliances           370   \n",
       "45                        home_appliances_2            90   \n",
       "46                           home_comfort_2             5   \n",
       "47                             home_confort           111   \n",
       "48                        home_construction           225   \n",
       "49                               housewares          2335   \n",
       "50           industry_commerce_and_business            68   \n",
       "51  kitchen_dining_laundry_garden_furniture            94   \n",
       "52                               la_cuisine            10   \n",
       "53                      luggage_accessories           349   \n",
       "54                             market_place           104   \n",
       "55                                    music            27   \n",
       "56                      musical_instruments           289   \n",
       "57                         office_furniture           309   \n",
       "58                                    other           623   \n",
       "59                           party_supplies            26   \n",
       "60                                perfumery           868   \n",
       "61                                 pet_shop           719   \n",
       "62                    security_and_services             2   \n",
       "63                   signaling_and_security            93   \n",
       "64                         small_appliances           231   \n",
       "65    small_appliances_home_oven_and_coffee            31   \n",
       "66                           sports_leisure          2867   \n",
       "67                               stationery           849   \n",
       "68                   tablets_printing_image             9   \n",
       "69                                telephony          1134   \n",
       "70                                     toys          1411   \n",
       "71                            watches_gifts          1329   \n",
       "\n",
       "                      product_category_name  product_id  \n",
       "0                agro_industry_and_commerce          74  \n",
       "1                          air_conditioning         124  \n",
       "2                                       art          55  \n",
       "3                     arts_and_craftmanship          19  \n",
       "4                                     audio          58  \n",
       "5                                      auto        1900  \n",
       "6                                      baby         919  \n",
       "7                            bed_bath_table        3029  \n",
       "8                    books_general_interest         216  \n",
       "9                            books_imported          31  \n",
       "10                          books_technical         123  \n",
       "11                        cds_dvds_musicals           1  \n",
       "12                       christmas_supplies          65  \n",
       "13                               cine_photo          28  \n",
       "14                                computers          30  \n",
       "15                    computers_accessories        1639  \n",
       "16                           consoles_games         317  \n",
       "17          construction_tools_construction         400  \n",
       "18                construction_tools_lights          78  \n",
       "19                construction_tools_safety          91  \n",
       "20                               cool_stuff         789  \n",
       "21                 costruction_tools_garden          88  \n",
       "22                  costruction_tools_tools          39  \n",
       "23                      diapers_and_hygiene          12  \n",
       "24                                   drinks          81  \n",
       "25                             dvds_blu_ray          48  \n",
       "26                              electronics         517  \n",
       "27                   fashio_female_clothing          27  \n",
       "28                 fashion_bags_accessories         849  \n",
       "29                fashion_childrens_clothes           5  \n",
       "30                    fashion_male_clothing          95  \n",
       "31                            fashion_shoes         173  \n",
       "32                            fashion_sport          19  \n",
       "33                  fashion_underwear_beach          53  \n",
       "34                          fixed_telephony         116  \n",
       "35                                  flowers          14  \n",
       "36                                     food          82  \n",
       "37                               food_drink         104  \n",
       "38                        furniture_bedroom          45  \n",
       "39                          furniture_decor        2657  \n",
       "40                    furniture_living_room         156  \n",
       "41        furniture_mattress_and_upholstery          10  \n",
       "42                             garden_tools         753  \n",
       "43                            health_beauty        2444  \n",
       "44                          home_appliances         370  \n",
       "45                        home_appliances_2          90  \n",
       "46                           home_comfort_2           5  \n",
       "47                             home_confort         111  \n",
       "48                        home_construction         225  \n",
       "49                               housewares        2335  \n",
       "50           industry_commerce_and_business          68  \n",
       "51  kitchen_dining_laundry_garden_furniture          94  \n",
       "52                               la_cuisine          10  \n",
       "53                      luggage_accessories         349  \n",
       "54                             market_place         104  \n",
       "55                                    music          27  \n",
       "56                      musical_instruments         289  \n",
       "57                         office_furniture         309  \n",
       "58                                    other         623  \n",
       "59                           party_supplies          26  \n",
       "60                                perfumery         868  \n",
       "61                                 pet_shop         719  \n",
       "62                    security_and_services           2  \n",
       "63                   signaling_and_security          93  \n",
       "64                         small_appliances         231  \n",
       "65    small_appliances_home_oven_and_coffee          31  \n",
       "66                           sports_leisure        2867  \n",
       "67                               stationery         849  \n",
       "68                   tablets_printing_image           9  \n",
       "69                                telephony        1134  \n",
       "70                                     toys        1411  \n",
       "71                            watches_gifts        1329  "
      ]
     },
     "execution_count": 101,
     "metadata": {},
     "output_type": "execute_result"
    }
   ],
   "source": [
    "prd_cat_gen"
   ]
  },
  {
   "cell_type": "code",
   "execution_count": 102,
   "id": "a6ecd9b2-f063-4e08-bb73-9a91fcda56ec",
   "metadata": {},
   "outputs": [],
   "source": [
    "prd_cat_gen['diff'] =  prd_cat_gen['product_id'] - prd_cat_gen['Product Name']"
   ]
  },
  {
   "cell_type": "code",
   "execution_count": 103,
   "id": "bd306b44-31a3-4137-879a-a1908a3dee50",
   "metadata": {},
   "outputs": [
    {
     "data": {
      "text/plain": [
       "0"
      ]
     },
     "execution_count": 103,
     "metadata": {},
     "output_type": "execute_result"
    }
   ],
   "source": [
    "prd_cat_gen['diff'].sum()"
   ]
  },
  {
   "cell_type": "code",
   "execution_count": 104,
   "id": "f936993e-c80a-470a-ab34-4acd4f1640e3",
   "metadata": {},
   "outputs": [
    {
     "data": {
      "text/plain": [
       "True"
      ]
     },
     "execution_count": 104,
     "metadata": {},
     "output_type": "execute_result"
    }
   ],
   "source": [
    "(prd_cat_gen['Category Name'] == prd_cat_gen['product_category_name']).all()"
   ]
  },
  {
   "cell_type": "code",
   "execution_count": 105,
   "id": "54f1ff9f-5406-41aa-9ddd-303669efb26b",
   "metadata": {},
   "outputs": [],
   "source": [
    "datasets['products']['product_name'] = np.nan\n",
    "datasets['products']['brand'] = np.nan\n",
    "\n",
    "for cat in datasets['products']['product_category_name'].unique():\n",
    "    prd_names = products_with_names.loc[\n",
    "        products_with_names['Category Name'] == cat, 'Product Name'\n",
    "    ].tolist()\n",
    "    brands = products_with_names.loc[\n",
    "        products_with_names['Category Name'] == cat, 'Brand'\n",
    "    ].tolist()\n",
    "\n",
    "    mask = datasets['products']['product_category_name'] == cat\n",
    "    n_rows = mask.sum()\n",
    "\n",
    "    # Only assign if lengths match exactly\n",
    "    if len(prd_names) == n_rows:\n",
    "        datasets['products'].loc[mask, 'product_name'] = prd_names\n",
    "        datasets['products'].loc[mask, 'brand'] = brands\n",
    "    else:\n",
    "        print(f\"Skipping {cat}: {len(prd_names)} names vs {n_rows} products\")\n"
   ]
  },
  {
   "cell_type": "code",
   "execution_count": 106,
   "id": "8460f5ae-7bfd-4371-948f-52d5512cacbe",
   "metadata": {},
   "outputs": [
    {
     "name": "stdout",
     "output_type": "stream",
     "text": [
      "<class 'pandas.core.frame.DataFrame'>\n",
      "RangeIndex: 32951 entries, 0 to 32950\n",
      "Data columns (total 11 columns):\n",
      " #   Column                      Non-Null Count  Dtype  \n",
      "---  ------                      --------------  -----  \n",
      " 0   product_id                  32951 non-null  object \n",
      " 1   product_name_lenght         32341 non-null  float64\n",
      " 2   product_description_lenght  32341 non-null  float64\n",
      " 3   product_photos_qty          32341 non-null  float64\n",
      " 4   product_weight_g            32949 non-null  float64\n",
      " 5   product_length_cm           32949 non-null  float64\n",
      " 6   product_height_cm           32949 non-null  float64\n",
      " 7   product_width_cm            32949 non-null  float64\n",
      " 8   product_category_name       32951 non-null  object \n",
      " 9   product_name                32951 non-null  object \n",
      " 10  brand                       32951 non-null  object \n",
      "dtypes: float64(7), object(4)\n",
      "memory usage: 2.8+ MB\n"
     ]
    }
   ],
   "source": [
    "datasets['products'].info()"
   ]
  },
  {
   "cell_type": "code",
   "execution_count": 107,
   "id": "0efe5f8b-182e-4386-89e9-caf69261d187",
   "metadata": {},
   "outputs": [
    {
     "data": {
      "text/plain": [
       "True"
      ]
     },
     "execution_count": 107,
     "metadata": {},
     "output_type": "execute_result"
    }
   ],
   "source": [
    "test_res = datasets['products'].groupby('product_category_name')[['product_id', 'product_name']].nunique()\n",
    "(test_res.product_id == test_res.product_name).all()"
   ]
  },
  {
   "cell_type": "markdown",
   "id": "5f7c8d5c-fd74-42c9-8ade-67869b3649f7",
   "metadata": {},
   "source": [
    "## Save Modified Datasets"
   ]
  },
  {
   "cell_type": "code",
   "execution_count": 108,
   "id": "12164f50-4088-41e4-b263-28dd7f6fef3c",
   "metadata": {},
   "outputs": [
    {
     "data": {
      "text/plain": [
       "Index(['product_id', 'product_name_lenght', 'product_description_lenght',\n",
       "       'product_photos_qty', 'product_weight_g', 'product_length_cm',\n",
       "       'product_height_cm', 'product_width_cm', 'product_category_name',\n",
       "       'product_name', 'brand'],\n",
       "      dtype='object')"
      ]
     },
     "execution_count": 108,
     "metadata": {},
     "output_type": "execute_result"
    }
   ],
   "source": [
    "datasets['products'].columns"
   ]
  },
  {
   "cell_type": "code",
   "execution_count": 109,
   "id": "439147ef-2c65-40ce-8791-e9ecea1d1414",
   "metadata": {},
   "outputs": [],
   "source": [
    "datasets['customers'] = datasets['customers'][['customer_unique_id', 'first_name', 'last_name', 'gender', 'Age', 'geo_id']]"
   ]
  },
  {
   "cell_type": "code",
   "execution_count": 110,
   "id": "694e5f9b-5c1a-4efb-9162-52e799c081b5",
   "metadata": {},
   "outputs": [],
   "source": [
    "datasets['sellers'] = datasets['sellers'][['seller_id', 'first_name', 'last_name', 'gender', 'geo_id']]"
   ]
  },
  {
   "cell_type": "code",
   "execution_count": 111,
   "id": "b1757321-dbc5-43a9-9b26-61c76a9c66a1",
   "metadata": {},
   "outputs": [],
   "source": [
    "datasets['geolocation'] = datasets['geolocation'][['geo_id', 'zip_code_prefix', 'city', 'state']]"
   ]
  },
  {
   "cell_type": "code",
   "execution_count": 112,
   "id": "81e56a0e-8a1d-437a-b834-f9c58342e466",
   "metadata": {},
   "outputs": [],
   "source": [
    "datasets['products'] = datasets['products'][['product_id', 'product_name', 'brand', 'product_category_name', 'product_name_lenght',\n",
    "       'product_description_lenght', 'product_photos_qty', 'product_weight_g',\n",
    "       'product_length_cm', 'product_height_cm', 'product_width_cm']]"
   ]
  },
  {
   "cell_type": "code",
   "execution_count": 113,
   "id": "d9ef5cc6-f90e-43e1-94d5-533feb005f3e",
   "metadata": {},
   "outputs": [
    {
     "name": "stdout",
     "output_type": "stream",
     "text": [
      "<class 'pandas.core.frame.DataFrame'>\n",
      "RangeIndex: 41 entries, 0 to 40\n",
      "Data columns (total 6 columns):\n",
      " #   Column            Non-Null Count  Dtype \n",
      "---  ------            --------------  ----- \n",
      " 0   first_name        41 non-null     object\n",
      " 1   last_name         41 non-null     object\n",
      " 2   gender            41 non-null     object\n",
      " 3   employee_id       41 non-null     object\n",
      " 4   role              41 non-null     object\n",
      " 5   facebook_user_id  5 non-null      object\n",
      "dtypes: object(6)\n",
      "memory usage: 2.1+ KB\n"
     ]
    }
   ],
   "source": [
    "df_emps.info()"
   ]
  },
  {
   "cell_type": "code",
   "execution_count": 114,
   "id": "a7a404aa-94e1-4186-bedc-097b21960a8f",
   "metadata": {},
   "outputs": [],
   "source": [
    "df_emps = df_emps[['employee_id', 'first_name', 'last_name', 'gender', 'role', 'facebook_user_id']]"
   ]
  },
  {
   "cell_type": "code",
   "execution_count": 115,
   "id": "e68796f0-3594-4cdf-8171-3cbc8a54e6bb",
   "metadata": {},
   "outputs": [],
   "source": [
    "for fileName in datasets.keys():\n",
    "    datasets[fileName].to_excel(f'Datasets_Modified/{fileName}.xlsx', index=False)\n",
    "\n"
   ]
  },
  {
   "cell_type": "code",
   "execution_count": 116,
   "id": "b8390d4a-763b-4b20-8e9f-1af62baab848",
   "metadata": {},
   "outputs": [],
   "source": [
    "df_emps.to_excel('Datasets_Modified/sales_reps.xlsx', index=False)"
   ]
  },
  {
   "cell_type": "markdown",
   "id": "644a1f01-ae8b-4709-bcac-6122d31d4e5b",
   "metadata": {},
   "source": [
    "## Compare with SSIS Output"
   ]
  },
  {
   "cell_type": "code",
   "execution_count": 117,
   "id": "d6bec483-5dac-423d-8857-0faf2427b196",
   "metadata": {},
   "outputs": [
    {
     "name": "stdout",
     "output_type": "stream",
     "text": [
      "closed_deals:  (842, 14)\n",
      "customers:  (96096, 6)\n",
      "geolocation:  (28221, 4)\n",
      "marketing_qualified_leads:  (8000, 4)\n",
      "orders:  (99441, 13)\n",
      "order_items:  (112650, 7)\n",
      "order_payments:  (103886, 6)\n",
      "order_reviews:  (98673, 7)\n",
      "products:  (32951, 11)\n",
      "sellers:  (3095, 5)\n",
      "product_category_name_translation:  (71, 2)\n"
     ]
    },
    {
     "data": {
      "text/plain": [
       "(41, 6)"
      ]
     },
     "execution_count": 117,
     "metadata": {},
     "output_type": "execute_result"
    }
   ],
   "source": [
    "for file_name in datasets.keys():\n",
    "    print(f'{file_name}: ', datasets[file_name].shape)\n",
    "df_emps.shape"
   ]
  },
  {
   "cell_type": "code",
   "execution_count": null,
   "id": "637eb31e-076f-49dd-a34d-1e28b98d9c37",
   "metadata": {},
   "outputs": [],
   "source": []
  }
 ],
 "metadata": {
  "kernelspec": {
   "display_name": "Python 3 (ipykernel)",
   "language": "python",
   "name": "python3"
  },
  "language_info": {
   "codemirror_mode": {
    "name": "ipython",
    "version": 3
   },
   "file_extension": ".py",
   "mimetype": "text/x-python",
   "name": "python",
   "nbconvert_exporter": "python",
   "pygments_lexer": "ipython3",
   "version": "3.12.7"
  }
 },
 "nbformat": 4,
 "nbformat_minor": 5
}
